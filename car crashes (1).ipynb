{
 "cells": [
  {
   "cell_type": "code",
   "execution_count": 14,
   "id": "74b51871",
   "metadata": {},
   "outputs": [],
   "source": [
    "### Importing the necessary libraries\n",
    "\n",
    "import pandas as pd\n",
    "import numpy as np\n",
    "import matplotlib.pyplot as plt"
   ]
  },
  {
   "cell_type": "code",
   "execution_count": 15,
   "id": "20997b4d",
   "metadata": {},
   "outputs": [
    {
     "name": "stderr",
     "output_type": "stream",
     "text": [
      "C:\\Users\\Adarsh\\AppData\\Local\\Temp\\ipykernel_20544\\4042026931.py:3: DtypeWarning: Columns (3) have mixed types. Specify dtype option on import or set low_memory=False.\n",
      "  df = pd.read_csv(\"Motor_Vehicle_Collisions_-_Crashes.csv\")\n"
     ]
    }
   ],
   "source": [
    "### Importing the data \n",
    "\n",
    "df = pd.read_csv(\"Motor_Vehicle_Collisions_-_Crashes.csv\")\n"
   ]
  },
  {
   "cell_type": "code",
   "execution_count": 16,
   "id": "56897f11",
   "metadata": {},
   "outputs": [
    {
     "data": {
      "text/plain": [
       "CRASH DATE                             0\n",
       "CRASH TIME                             0\n",
       "BOROUGH                           625960\n",
       "ZIP CODE                          626198\n",
       "LATITUDE                          229251\n",
       "LONGITUDE                         229251\n",
       "LOCATION                          229251\n",
       "ON STREET NAME                    423023\n",
       "CROSS STREET NAME                 752326\n",
       "OFF STREET NAME                  1681521\n",
       "NUMBER OF PERSONS INJURED             18\n",
       "NUMBER OF PERSONS KILLED              31\n",
       "NUMBER OF PEDESTRIANS INJURED          0\n",
       "NUMBER OF PEDESTRIANS KILLED           0\n",
       "NUMBER OF CYCLIST INJURED              0\n",
       "NUMBER OF CYCLIST KILLED               0\n",
       "NUMBER OF MOTORIST INJURED             0\n",
       "NUMBER OF MOTORIST KILLED              0\n",
       "CONTRIBUTING FACTOR VEHICLE 1       6315\n",
       "CONTRIBUTING FACTOR VEHICLE 2     306583\n",
       "CONTRIBUTING FACTOR VEHICLE 3    1869626\n",
       "CONTRIBUTING FACTOR VEHICLE 4    1980202\n",
       "CONTRIBUTING FACTOR VEHICLE 5    2003546\n",
       "COLLISION_ID                           0\n",
       "VEHICLE TYPE CODE 1                12592\n",
       "VEHICLE TYPE CODE 2               375047\n",
       "VEHICLE TYPE CODE 3              1874573\n",
       "VEHICLE TYPE CODE 4              1981269\n",
       "VEHICLE TYPE CODE 5              2003800\n",
       "dtype: int64"
      ]
     },
     "execution_count": 16,
     "metadata": {},
     "output_type": "execute_result"
    }
   ],
   "source": [
    "### Checking for null values\n",
    "\n",
    "df.isnull().sum()"
   ]
  },
  {
   "cell_type": "code",
   "execution_count": 17,
   "id": "31245681",
   "metadata": {},
   "outputs": [
    {
     "data": {
      "text/html": [
       "<div>\n",
       "<style scoped>\n",
       "    .dataframe tbody tr th:only-of-type {\n",
       "        vertical-align: middle;\n",
       "    }\n",
       "\n",
       "    .dataframe tbody tr th {\n",
       "        vertical-align: top;\n",
       "    }\n",
       "\n",
       "    .dataframe thead th {\n",
       "        text-align: right;\n",
       "    }\n",
       "</style>\n",
       "<table border=\"1\" class=\"dataframe\">\n",
       "  <thead>\n",
       "    <tr style=\"text-align: right;\">\n",
       "      <th></th>\n",
       "      <th>CRASH DATE</th>\n",
       "      <th>CRASH TIME</th>\n",
       "      <th>BOROUGH</th>\n",
       "      <th>ZIP CODE</th>\n",
       "      <th>LATITUDE</th>\n",
       "      <th>LONGITUDE</th>\n",
       "      <th>LOCATION</th>\n",
       "      <th>ON STREET NAME</th>\n",
       "      <th>CROSS STREET NAME</th>\n",
       "      <th>OFF STREET NAME</th>\n",
       "      <th>...</th>\n",
       "      <th>CONTRIBUTING FACTOR VEHICLE 2</th>\n",
       "      <th>CONTRIBUTING FACTOR VEHICLE 3</th>\n",
       "      <th>CONTRIBUTING FACTOR VEHICLE 4</th>\n",
       "      <th>CONTRIBUTING FACTOR VEHICLE 5</th>\n",
       "      <th>COLLISION_ID</th>\n",
       "      <th>VEHICLE TYPE CODE 1</th>\n",
       "      <th>VEHICLE TYPE CODE 2</th>\n",
       "      <th>VEHICLE TYPE CODE 3</th>\n",
       "      <th>VEHICLE TYPE CODE 4</th>\n",
       "      <th>VEHICLE TYPE CODE 5</th>\n",
       "    </tr>\n",
       "  </thead>\n",
       "  <tbody>\n",
       "    <tr>\n",
       "      <th>0</th>\n",
       "      <td>09/11/2021</td>\n",
       "      <td>2:39</td>\n",
       "      <td>NaN</td>\n",
       "      <td>NaN</td>\n",
       "      <td>NaN</td>\n",
       "      <td>NaN</td>\n",
       "      <td>NaN</td>\n",
       "      <td>WHITESTONE EXPRESSWAY</td>\n",
       "      <td>20 AVENUE</td>\n",
       "      <td>NaN</td>\n",
       "      <td>...</td>\n",
       "      <td>Unspecified</td>\n",
       "      <td>NaN</td>\n",
       "      <td>NaN</td>\n",
       "      <td>NaN</td>\n",
       "      <td>4455765</td>\n",
       "      <td>Sedan</td>\n",
       "      <td>Sedan</td>\n",
       "      <td>NaN</td>\n",
       "      <td>NaN</td>\n",
       "      <td>NaN</td>\n",
       "    </tr>\n",
       "    <tr>\n",
       "      <th>1</th>\n",
       "      <td>03/26/2022</td>\n",
       "      <td>11:45</td>\n",
       "      <td>NaN</td>\n",
       "      <td>NaN</td>\n",
       "      <td>NaN</td>\n",
       "      <td>NaN</td>\n",
       "      <td>NaN</td>\n",
       "      <td>QUEENSBORO BRIDGE UPPER</td>\n",
       "      <td>NaN</td>\n",
       "      <td>NaN</td>\n",
       "      <td>...</td>\n",
       "      <td>NaN</td>\n",
       "      <td>NaN</td>\n",
       "      <td>NaN</td>\n",
       "      <td>NaN</td>\n",
       "      <td>4513547</td>\n",
       "      <td>Sedan</td>\n",
       "      <td>NaN</td>\n",
       "      <td>NaN</td>\n",
       "      <td>NaN</td>\n",
       "      <td>NaN</td>\n",
       "    </tr>\n",
       "  </tbody>\n",
       "</table>\n",
       "<p>2 rows × 29 columns</p>\n",
       "</div>"
      ],
      "text/plain": [
       "   CRASH DATE CRASH TIME BOROUGH ZIP CODE  LATITUDE  LONGITUDE LOCATION  \\\n",
       "0  09/11/2021       2:39     NaN      NaN       NaN        NaN      NaN   \n",
       "1  03/26/2022      11:45     NaN      NaN       NaN        NaN      NaN   \n",
       "\n",
       "            ON STREET NAME CROSS STREET NAME OFF STREET NAME  ...  \\\n",
       "0    WHITESTONE EXPRESSWAY         20 AVENUE             NaN  ...   \n",
       "1  QUEENSBORO BRIDGE UPPER               NaN             NaN  ...   \n",
       "\n",
       "   CONTRIBUTING FACTOR VEHICLE 2  CONTRIBUTING FACTOR VEHICLE 3  \\\n",
       "0                    Unspecified                            NaN   \n",
       "1                            NaN                            NaN   \n",
       "\n",
       "   CONTRIBUTING FACTOR VEHICLE 4  CONTRIBUTING FACTOR VEHICLE 5  COLLISION_ID  \\\n",
       "0                            NaN                            NaN       4455765   \n",
       "1                            NaN                            NaN       4513547   \n",
       "\n",
       "   VEHICLE TYPE CODE 1  VEHICLE TYPE CODE 2  VEHICLE TYPE CODE 3  \\\n",
       "0                Sedan                Sedan                  NaN   \n",
       "1                Sedan                  NaN                  NaN   \n",
       "\n",
       "  VEHICLE TYPE CODE 4 VEHICLE TYPE CODE 5  \n",
       "0                 NaN                 NaN  \n",
       "1                 NaN                 NaN  \n",
       "\n",
       "[2 rows x 29 columns]"
      ]
     },
     "execution_count": 17,
     "metadata": {},
     "output_type": "execute_result"
    }
   ],
   "source": [
    "df.head(2)"
   ]
  },
  {
   "cell_type": "code",
   "execution_count": 18,
   "id": "998e2277",
   "metadata": {},
   "outputs": [
    {
     "data": {
      "text/plain": [
       "CRASH DATE                       2012173\n",
       "CRASH TIME                       2012173\n",
       "BOROUGH                          1386213\n",
       "ZIP CODE                         1385975\n",
       "LATITUDE                         1782922\n",
       "LONGITUDE                        1782922\n",
       "LOCATION                         1782922\n",
       "ON STREET NAME                   1589150\n",
       "CROSS STREET NAME                1259847\n",
       "OFF STREET NAME                   330652\n",
       "NUMBER OF PERSONS INJURED        2012155\n",
       "NUMBER OF PERSONS KILLED         2012142\n",
       "NUMBER OF PEDESTRIANS INJURED    2012173\n",
       "NUMBER OF PEDESTRIANS KILLED     2012173\n",
       "NUMBER OF CYCLIST INJURED        2012173\n",
       "NUMBER OF CYCLIST KILLED         2012173\n",
       "NUMBER OF MOTORIST INJURED       2012173\n",
       "NUMBER OF MOTORIST KILLED        2012173\n",
       "CONTRIBUTING FACTOR VEHICLE 1    2005858\n",
       "CONTRIBUTING FACTOR VEHICLE 2    1705590\n",
       "CONTRIBUTING FACTOR VEHICLE 3     142547\n",
       "CONTRIBUTING FACTOR VEHICLE 4      31971\n",
       "CONTRIBUTING FACTOR VEHICLE 5       8627\n",
       "COLLISION_ID                     2012173\n",
       "VEHICLE TYPE CODE 1              1999581\n",
       "VEHICLE TYPE CODE 2              1637126\n",
       "VEHICLE TYPE CODE 3               137600\n",
       "VEHICLE TYPE CODE 4                30904\n",
       "VEHICLE TYPE CODE 5                 8373\n",
       "dtype: int64"
      ]
     },
     "execution_count": 18,
     "metadata": {},
     "output_type": "execute_result"
    }
   ],
   "source": [
    "df.count()"
   ]
  },
  {
   "cell_type": "code",
   "execution_count": 19,
   "id": "aa7ed609",
   "metadata": {
    "scrolled": true
   },
   "outputs": [
    {
     "data": {
      "text/plain": [
       "Sedan                                  547926\n",
       "Station Wagon/Sport Utility Vehicle    431578\n",
       "PASSENGER VEHICLE                      416206\n",
       "SPORT UTILITY / STATION WAGON          180291\n",
       "Taxi                                    49858\n",
       "                                        ...  \n",
       "TR-Trailer                                  1\n",
       "ESU RESCUE                                  1\n",
       "pedicab                                     1\n",
       "TTRAILER                                    1\n",
       "a                                           1\n",
       "Name: VEHICLE TYPE CODE 1, Length: 1554, dtype: int64"
      ]
     },
     "execution_count": 19,
     "metadata": {},
     "output_type": "execute_result"
    }
   ],
   "source": [
    "### Checking the most common vehicle involved in accidents in Vehicle type code 1\n",
    "\n",
    "df[\"VEHICLE TYPE CODE 1\"].value_counts()"
   ]
  },
  {
   "cell_type": "code",
   "execution_count": 20,
   "id": "ae6f14c1",
   "metadata": {},
   "outputs": [
    {
     "data": {
      "text/plain": [
       "1554"
      ]
     },
     "execution_count": 20,
     "metadata": {},
     "output_type": "execute_result"
    }
   ],
   "source": [
    "### Checking the number of unique vehicles \n",
    "\n",
    "df[\"VEHICLE TYPE CODE 1\"].nunique()"
   ]
  },
  {
   "cell_type": "code",
   "execution_count": 21,
   "id": "fa2aad46",
   "metadata": {},
   "outputs": [],
   "source": [
    "### Changing the vehicle type code column name to make it easier later\n",
    "\n",
    "df.rename(columns={'VEHICLE TYPE CODE 1':'Vehicle1',\n",
    "                   'VEHICLE TYPE CODE 2':'Vehicle2',\n",
    "                   'VEHICLE TYPE CODE 3':'Vehicle3',\n",
    "                   'VEHICLE TYPE CODE 4':'Vehicle4',\n",
    "                   'VEHICLE TYPE CODE 5':'Vehicle5' },\n",
    "          inplace = True)"
   ]
  },
  {
   "cell_type": "code",
   "execution_count": 22,
   "id": "a0b720db",
   "metadata": {
    "scrolled": false
   },
   "outputs": [
    {
     "data": {
      "text/plain": [
       "array(['Sedan', nan, 'Pick-up Truck', ..., 'TRAILER/TR', 'POSTOFFICE',\n",
       "       '12 PASSENG'], dtype=object)"
      ]
     },
     "execution_count": 22,
     "metadata": {},
     "output_type": "execute_result"
    }
   ],
   "source": [
    "### Checking the unique vehicles in vehicle2 column\n",
    "df.Vehicle2.unique()"
   ]
  },
  {
   "cell_type": "code",
   "execution_count": 23,
   "id": "8f894916",
   "metadata": {},
   "outputs": [],
   "source": [
    "### The below two blocks are to check the most common vehicles in accidents in columns Vehicle3 and vehicle4"
   ]
  },
  {
   "cell_type": "code",
   "execution_count": 24,
   "id": "ceb4ec44",
   "metadata": {},
   "outputs": [
    {
     "data": {
      "text/plain": [
       "Sedan                                  41889\n",
       "Station Wagon/Sport Utility Vehicle    33971\n",
       "PASSENGER VEHICLE                      27713\n",
       "SPORT UTILITY / STATION WAGON          13358\n",
       "UNKNOWN                                 3284\n",
       "                                       ...  \n",
       "BUs                                        1\n",
       "tank                                       1\n",
       "USPS POSTA                                 1\n",
       "POSTA                                      1\n",
       "Unk                                        1\n",
       "Name: Vehicle3, Length: 244, dtype: int64"
      ]
     },
     "execution_count": 24,
     "metadata": {},
     "output_type": "execute_result"
    }
   ],
   "source": [
    "df.Vehicle3.value_counts()"
   ]
  },
  {
   "cell_type": "code",
   "execution_count": 25,
   "id": "8726318b",
   "metadata": {
    "scrolled": true
   },
   "outputs": [
    {
     "data": {
      "text/plain": [
       "Sedan                                  10113\n",
       "Station Wagon/Sport Utility Vehicle     8253\n",
       "PASSENGER VEHICLE                       5969\n",
       "SPORT UTILITY / STATION WAGON           2852\n",
       "UNKNOWN                                  595\n",
       "                                       ...  \n",
       "TRAIL                                      1\n",
       "Deliv                                      1\n",
       "TOW T                                      1\n",
       "trail                                      1\n",
       "Stake or Rack                              1\n",
       "Name: Vehicle4, Length: 99, dtype: int64"
      ]
     },
     "execution_count": 25,
     "metadata": {},
     "output_type": "execute_result"
    }
   ],
   "source": [
    "df.Vehicle4.value_counts()"
   ]
  },
  {
   "cell_type": "code",
   "execution_count": 30,
   "id": "fa01e8e7",
   "metadata": {
    "scrolled": true
   },
   "outputs": [
    {
     "data": {
      "text/plain": [
       "0          2.0\n",
       "1          1.0\n",
       "2          0.0\n",
       "3          0.0\n",
       "4          0.0\n",
       "          ... \n",
       "2012168    0.0\n",
       "2012169    1.0\n",
       "2012170    1.0\n",
       "2012171    2.0\n",
       "2012172    4.0\n",
       "Name: NUMBER OF PERSONS INJURED, Length: 2012173, dtype: object"
      ]
     },
     "execution_count": 30,
     "metadata": {},
     "output_type": "execute_result"
    }
   ],
   "source": [
    "### filling in the null value in 'number of persons injured' \n",
    "\n",
    "df['NUMBER OF PERSONS INJURED'].fillna('0') "
   ]
  },
  {
   "cell_type": "code",
   "execution_count": 31,
   "id": "8022c3c2",
   "metadata": {
    "scrolled": false
   },
   "outputs": [
    {
     "data": {
      "text/plain": [
       "0.0     1564899\n",
       "1.0      347071\n",
       "2.0       65376\n",
       "3.0       21353\n",
       "4.0        7948\n",
       "5.0        3085\n",
       "6.0        1279\n",
       "7.0         548\n",
       "8.0         239\n",
       "9.0         119\n",
       "10.0         79\n",
       "11.0         46\n",
       "12.0         29\n",
       "13.0         24\n",
       "15.0         11\n",
       "14.0          9\n",
       "16.0          8\n",
       "18.0          7\n",
       "17.0          5\n",
       "19.0          4\n",
       "22.0          3\n",
       "24.0          3\n",
       "20.0          2\n",
       "40.0          1\n",
       "31.0          1\n",
       "27.0          1\n",
       "32.0          1\n",
       "43.0          1\n",
       "21.0          1\n",
       "23.0          1\n",
       "34.0          1\n",
       "Name: NUMBER OF PERSONS INJURED, dtype: int64"
      ]
     },
     "execution_count": 31,
     "metadata": {},
     "output_type": "execute_result"
    }
   ],
   "source": [
    "df['NUMBER OF PERSONS INJURED'].value_counts()\n",
    "### the max number of people injured in a single accident is 43"
   ]
  },
  {
   "cell_type": "code",
   "execution_count": 32,
   "id": "864c8720",
   "metadata": {},
   "outputs": [
    {
     "data": {
      "text/plain": [
       "0.0    2009357\n",
       "1.0       2697\n",
       "2.0         71\n",
       "3.0         12\n",
       "4.0          3\n",
       "8.0          1\n",
       "5.0          1\n",
       "Name: NUMBER OF PERSONS KILLED, dtype: int64"
      ]
     },
     "execution_count": 32,
     "metadata": {},
     "output_type": "execute_result"
    }
   ],
   "source": [
    "df['NUMBER OF PERSONS KILLED'].value_counts()\n",
    "### max number of people killed in 1 accident is 8 "
   ]
  },
  {
   "cell_type": "code",
   "execution_count": 33,
   "id": "d388c24a",
   "metadata": {
    "scrolled": false
   },
   "outputs": [
    {
     "data": {
      "text/plain": [
       "array(['Aggressive Driving/Road Rage', 'Pavement Slippery',\n",
       "       'Following Too Closely', 'Unspecified', nan, 'Passing Too Closely',\n",
       "       'Driver Inexperience', 'Passing or Lane Usage Improper',\n",
       "       'Turning Improperly', 'Unsafe Lane Changing', 'Unsafe Speed',\n",
       "       'Reaction to Uninvolved Vehicle', 'Steering Failure',\n",
       "       'Traffic Control Disregarded', 'Other Vehicular',\n",
       "       'Driver Inattention/Distraction', 'Oversized Vehicle',\n",
       "       'Pedestrian/Bicyclist/Other Pedestrian Error/Confusion',\n",
       "       'Alcohol Involvement', 'View Obstructed/Limited',\n",
       "       'Failure to Yield Right-of-Way', 'Illnes', 'Lost Consciousness',\n",
       "       'Brakes Defective', 'Backing Unsafely', 'Glare',\n",
       "       'Passenger Distraction', 'Fell Asleep', 'Obstruction/Debris',\n",
       "       'Tinted Windows', 'Animals Action', 'Drugs (illegal)',\n",
       "       'Pavement Defective', 'Other Lighting Defects',\n",
       "       'Outside Car Distraction', 'Driverless/Runaway Vehicle',\n",
       "       'Tire Failure/Inadequate', 'Fatigued/Drowsy',\n",
       "       'Headlights Defective', 'Accelerator Defective',\n",
       "       'Failure to Keep Right', 'Physical Disability',\n",
       "       'Eating or Drinking', 'Cell Phone (hands-free)',\n",
       "       'Lane Marking Improper/Inadequate', 'Cell Phone (hand-Held)',\n",
       "       'Using On Board Navigation Device', 'Other Electronic Device',\n",
       "       'Traffic Control Device Improper/Non-Working',\n",
       "       'Tow Hitch Defective', 'Windshield Inadequate',\n",
       "       'Vehicle Vandalism', 'Prescription Medication',\n",
       "       'Shoulders Defective/Improper', 'Listening/Using Headphones',\n",
       "       'Texting', '80', 'Reaction to Other Uninvolved Vehicle', '1',\n",
       "       'Drugs (Illegal)', 'Illness', 'Cell Phone (hand-held)'],\n",
       "      dtype=object)"
      ]
     },
     "execution_count": 33,
     "metadata": {},
     "output_type": "execute_result"
    }
   ],
   "source": [
    "### Checking the unique values in 'contributing factor vehicle 1' \n",
    "\n",
    "df['CONTRIBUTING FACTOR VEHICLE 1'].unique()"
   ]
  },
  {
   "cell_type": "code",
   "execution_count": 34,
   "id": "8d27514b",
   "metadata": {},
   "outputs": [],
   "source": [
    "### Checking all the contributing factor columns to see the most common reason for accidents"
   ]
  },
  {
   "cell_type": "code",
   "execution_count": 35,
   "id": "56012aab",
   "metadata": {},
   "outputs": [
    {
     "data": {
      "text/plain": [
       "Unspecified                       691207\n",
       "Driver Inattention/Distraction    399797\n",
       "Failure to Yield Right-of-Way     118777\n",
       "Following Too Closely             107063\n",
       "Backing Unsafely                   74861\n",
       "                                   ...  \n",
       "Cell Phone (hand-held)                79\n",
       "Windshield Inadequate                 77\n",
       "Texting                               50\n",
       "Listening/Using Headphones            24\n",
       "1                                     10\n",
       "Name: CONTRIBUTING FACTOR VEHICLE 1, Length: 61, dtype: int64"
      ]
     },
     "execution_count": 35,
     "metadata": {},
     "output_type": "execute_result"
    }
   ],
   "source": [
    "df['CONTRIBUTING FACTOR VEHICLE 1'].value_counts()"
   ]
  },
  {
   "cell_type": "code",
   "execution_count": 36,
   "id": "68c55918",
   "metadata": {},
   "outputs": [
    {
     "data": {
      "text/plain": [
       "Unspecified                       1436040\n",
       "Driver Inattention/Distraction      91425\n",
       "Other Vehicular                     31273\n",
       "Following Too Closely               18290\n",
       "Failure to Yield Right-of-Way       16709\n",
       "                                   ...   \n",
       "Eating or Drinking                     10\n",
       "Listening/Using Headphones             10\n",
       "Windshield Inadequate                   7\n",
       "1                                       5\n",
       "Texting                                 3\n",
       "Name: CONTRIBUTING FACTOR VEHICLE 2, Length: 61, dtype: int64"
      ]
     },
     "execution_count": 36,
     "metadata": {},
     "output_type": "execute_result"
    }
   ],
   "source": [
    "df['CONTRIBUTING FACTOR VEHICLE 2'].value_counts()"
   ]
  },
  {
   "cell_type": "code",
   "execution_count": 37,
   "id": "b27d6cec",
   "metadata": {},
   "outputs": [
    {
     "data": {
      "text/plain": [
       "Unspecified                                              132912\n",
       "Other Vehicular                                            2650\n",
       "Driver Inattention/Distraction                             1874\n",
       "Following Too Closely                                      1849\n",
       "Fatigued/Drowsy                                             853\n",
       "Pavement Slippery                                           380\n",
       "Reaction to Uninvolved Vehicle                              200\n",
       "Driver Inexperience                                         174\n",
       "Outside Car Distraction                                     160\n",
       "Traffic Control Disregarded                                 153\n",
       "Unsafe Speed                                                146\n",
       "Failure to Yield Right-of-Way                               143\n",
       "Passing or Lane Usage Improper                              103\n",
       "Alcohol Involvement                                         101\n",
       "Backing Unsafely                                             93\n",
       "Turning Improperly                                           76\n",
       "Unsafe Lane Changing                                         75\n",
       "Obstruction/Debris                                           68\n",
       "Fell Asleep                                                  58\n",
       "Passing Too Closely                                          49\n",
       "View Obstructed/Limited                                      44\n",
       "Aggressive Driving/Road Rage                                 43\n",
       "Other Electronic Device                                      38\n",
       "Lost Consciousness                                           36\n",
       "Brakes Defective                                             32\n",
       "Pedestrian/Bicyclist/Other Pedestrian Error/Confusion        29\n",
       "Failure to Keep Right                                        28\n",
       "Physical Disability                                          23\n",
       "Prescription Medication                                      21\n",
       "Passenger Distraction                                        17\n",
       "Oversized Vehicle                                            17\n",
       "Traffic Control Device Improper/Non-Working                  14\n",
       "Glare                                                        14\n",
       "Pavement Defective                                           14\n",
       "Driverless/Runaway Vehicle                                   10\n",
       "Tire Failure/Inadequate                                       8\n",
       "Illness                                                       7\n",
       "Drugs (Illegal)                                               6\n",
       "Accelerator Defective                                         4\n",
       "Animals Action                                                4\n",
       "80                                                            3\n",
       "Lane Marking Improper/Inadequate                              3\n",
       "Drugs (illegal)                                               3\n",
       "Steering Failure                                              3\n",
       "Cell Phone (hands-free)                                       2\n",
       "Reaction to Other Uninvolved Vehicle                          2\n",
       "Eating or Drinking                                            1\n",
       "Cell Phone (hand-Held)                                        1\n",
       "1                                                             1\n",
       "Tinted Windows                                                1\n",
       "Illnes                                                        1\n",
       "Name: CONTRIBUTING FACTOR VEHICLE 3, dtype: int64"
      ]
     },
     "execution_count": 37,
     "metadata": {},
     "output_type": "execute_result"
    }
   ],
   "source": [
    "df['CONTRIBUTING FACTOR VEHICLE 3'].value_counts()"
   ]
  },
  {
   "cell_type": "code",
   "execution_count": 38,
   "id": "c6395d82",
   "metadata": {
    "scrolled": false
   },
   "outputs": [
    {
     "data": {
      "text/plain": [
       "Sedan                                  41889\n",
       "Station Wagon/Sport Utility Vehicle    33971\n",
       "PASSENGER VEHICLE                      27713\n",
       "SPORT UTILITY / STATION WAGON          13358\n",
       "UNKNOWN                                 3284\n",
       "                                       ...  \n",
       "BUs                                        1\n",
       "tank                                       1\n",
       "USPS POSTA                                 1\n",
       "POSTA                                      1\n",
       "Unk                                        1\n",
       "Name: Vehicle3, Length: 244, dtype: int64"
      ]
     },
     "execution_count": 38,
     "metadata": {},
     "output_type": "execute_result"
    }
   ],
   "source": [
    "df.Vehicle3.value_counts()"
   ]
  },
  {
   "cell_type": "code",
   "execution_count": null,
   "id": "18b39dc2",
   "metadata": {},
   "outputs": [],
   "source": []
  },
  {
   "cell_type": "code",
   "execution_count": 39,
   "id": "370e74b4",
   "metadata": {},
   "outputs": [
    {
     "data": {
      "text/plain": [
       "989928"
      ]
     },
     "execution_count": 39,
     "metadata": {},
     "output_type": "execute_result"
    }
   ],
   "source": [
    "filtr = df == 'Sedan'\n",
    "df[filtr].count().agg(sum)\n",
    "### getting the total number of 'sedan' involved in accidents"
   ]
  },
  {
   "cell_type": "code",
   "execution_count": 40,
   "id": "8acda380",
   "metadata": {},
   "outputs": [
    {
     "data": {
      "text/plain": [
       "769982"
      ]
     },
     "execution_count": 40,
     "metadata": {},
     "output_type": "execute_result"
    }
   ],
   "source": [
    "filtr = df == 'PASSENGER VEHICLE'\n",
    "df[filtr].count().agg(sum)\n",
    "### getting the total number of 'passenger vehicle' involved in accidents"
   ]
  },
  {
   "cell_type": "code",
   "execution_count": 41,
   "id": "e0b8d6d3",
   "metadata": {},
   "outputs": [
    {
     "data": {
      "text/plain": [
       "790149"
      ]
     },
     "execution_count": 41,
     "metadata": {},
     "output_type": "execute_result"
    }
   ],
   "source": [
    "filtr = df == 'Station Wagon/Sport Utility Vehicle'\n",
    "df[filtr].count().agg(sum)\n",
    "### getting the total number of 'Station Wagon/Sport Utility Vehicle' involved in accidents"
   ]
  },
  {
   "cell_type": "code",
   "execution_count": 42,
   "id": "f45a24e7",
   "metadata": {},
   "outputs": [
    {
     "data": {
      "text/plain": [
       "337507"
      ]
     },
     "execution_count": 42,
     "metadata": {},
     "output_type": "execute_result"
    }
   ],
   "source": [
    "filtr = df == 'SPORT UTILITY / STATION WAGON'\n",
    "df[filtr].count().agg(sum)\n",
    "### the total number of suv and station wagon involved in accidents is (337507+790149)1127656 adding the values of"
   ]
  },
  {
   "cell_type": "code",
   "execution_count": 43,
   "id": "bb9310e8",
   "metadata": {},
   "outputs": [],
   "source": [
    "### with the above data we tell that the most vehicle type involved in accidents is \n",
    "### 1)suvs/station wagons with 1127656 (assuming that 'SPORT UTILITY/STATION WAGON' and 'Station Wagon/Sport Utility Vechile' are the same type of vehicle)\n",
    "### 2)sedan with 989928\n",
    "### 3)passenger vehicle with 769982\n"
   ]
  },
  {
   "cell_type": "code",
   "execution_count": 44,
   "id": "5aec50ff",
   "metadata": {},
   "outputs": [
    {
     "data": {
      "text/html": [
       "<div>\n",
       "<style scoped>\n",
       "    .dataframe tbody tr th:only-of-type {\n",
       "        vertical-align: middle;\n",
       "    }\n",
       "\n",
       "    .dataframe tbody tr th {\n",
       "        vertical-align: top;\n",
       "    }\n",
       "\n",
       "    .dataframe thead th {\n",
       "        text-align: right;\n",
       "    }\n",
       "</style>\n",
       "<table border=\"1\" class=\"dataframe\">\n",
       "  <thead>\n",
       "    <tr style=\"text-align: right;\">\n",
       "      <th></th>\n",
       "      <th>CONTRIBUTING FACTOR VEHICLE 1</th>\n",
       "      <th>CONTRIBUTING FACTOR VEHICLE 2</th>\n",
       "      <th>CONTRIBUTING FACTOR VEHICLE 3</th>\n",
       "      <th>CONTRIBUTING FACTOR VEHICLE 4</th>\n",
       "      <th>CONTRIBUTING FACTOR VEHICLE 5</th>\n",
       "    </tr>\n",
       "  </thead>\n",
       "  <tbody>\n",
       "    <tr>\n",
       "      <th>1</th>\n",
       "      <td>10</td>\n",
       "      <td>5</td>\n",
       "      <td>1.0</td>\n",
       "      <td>NaN</td>\n",
       "      <td>NaN</td>\n",
       "    </tr>\n",
       "    <tr>\n",
       "      <th>80</th>\n",
       "      <td>101</td>\n",
       "      <td>22</td>\n",
       "      <td>3.0</td>\n",
       "      <td>NaN</td>\n",
       "      <td>NaN</td>\n",
       "    </tr>\n",
       "    <tr>\n",
       "      <th>Accelerator Defective</th>\n",
       "      <td>1054</td>\n",
       "      <td>72</td>\n",
       "      <td>4.0</td>\n",
       "      <td>1.0</td>\n",
       "      <td>NaN</td>\n",
       "    </tr>\n",
       "    <tr>\n",
       "      <th>Aggressive Driving/Road Rage</th>\n",
       "      <td>9197</td>\n",
       "      <td>1602</td>\n",
       "      <td>43.0</td>\n",
       "      <td>6.0</td>\n",
       "      <td>1.0</td>\n",
       "    </tr>\n",
       "    <tr>\n",
       "      <th>Alcohol Involvement</th>\n",
       "      <td>21559</td>\n",
       "      <td>1521</td>\n",
       "      <td>101.0</td>\n",
       "      <td>19.0</td>\n",
       "      <td>10.0</td>\n",
       "    </tr>\n",
       "    <tr>\n",
       "      <th>...</th>\n",
       "      <td>...</td>\n",
       "      <td>...</td>\n",
       "      <td>...</td>\n",
       "      <td>...</td>\n",
       "      <td>...</td>\n",
       "    </tr>\n",
       "    <tr>\n",
       "      <th>Unspecified</th>\n",
       "      <td>691207</td>\n",
       "      <td>1436040</td>\n",
       "      <td>132912.0</td>\n",
       "      <td>30175.0</td>\n",
       "      <td>8135.0</td>\n",
       "    </tr>\n",
       "    <tr>\n",
       "      <th>Using On Board Navigation Device</th>\n",
       "      <td>146</td>\n",
       "      <td>13</td>\n",
       "      <td>NaN</td>\n",
       "      <td>NaN</td>\n",
       "      <td>NaN</td>\n",
       "    </tr>\n",
       "    <tr>\n",
       "      <th>Vehicle Vandalism</th>\n",
       "      <td>131</td>\n",
       "      <td>13</td>\n",
       "      <td>NaN</td>\n",
       "      <td>NaN</td>\n",
       "      <td>NaN</td>\n",
       "    </tr>\n",
       "    <tr>\n",
       "      <th>View Obstructed/Limited</th>\n",
       "      <td>13177</td>\n",
       "      <td>3027</td>\n",
       "      <td>44.0</td>\n",
       "      <td>3.0</td>\n",
       "      <td>NaN</td>\n",
       "    </tr>\n",
       "    <tr>\n",
       "      <th>Windshield Inadequate</th>\n",
       "      <td>77</td>\n",
       "      <td>7</td>\n",
       "      <td>NaN</td>\n",
       "      <td>1.0</td>\n",
       "      <td>NaN</td>\n",
       "    </tr>\n",
       "  </tbody>\n",
       "</table>\n",
       "<p>61 rows × 5 columns</p>\n",
       "</div>"
      ],
      "text/plain": [
       "                                  CONTRIBUTING FACTOR VEHICLE 1  \\\n",
       "1                                                            10   \n",
       "80                                                          101   \n",
       "Accelerator Defective                                      1054   \n",
       "Aggressive Driving/Road Rage                               9197   \n",
       "Alcohol Involvement                                       21559   \n",
       "...                                                         ...   \n",
       "Unspecified                                              691207   \n",
       "Using On Board Navigation Device                            146   \n",
       "Vehicle Vandalism                                           131   \n",
       "View Obstructed/Limited                                   13177   \n",
       "Windshield Inadequate                                        77   \n",
       "\n",
       "                                  CONTRIBUTING FACTOR VEHICLE 2  \\\n",
       "1                                                             5   \n",
       "80                                                           22   \n",
       "Accelerator Defective                                        72   \n",
       "Aggressive Driving/Road Rage                               1602   \n",
       "Alcohol Involvement                                        1521   \n",
       "...                                                         ...   \n",
       "Unspecified                                             1436040   \n",
       "Using On Board Navigation Device                             13   \n",
       "Vehicle Vandalism                                            13   \n",
       "View Obstructed/Limited                                    3027   \n",
       "Windshield Inadequate                                         7   \n",
       "\n",
       "                                  CONTRIBUTING FACTOR VEHICLE 3  \\\n",
       "1                                                           1.0   \n",
       "80                                                          3.0   \n",
       "Accelerator Defective                                       4.0   \n",
       "Aggressive Driving/Road Rage                               43.0   \n",
       "Alcohol Involvement                                       101.0   \n",
       "...                                                         ...   \n",
       "Unspecified                                            132912.0   \n",
       "Using On Board Navigation Device                            NaN   \n",
       "Vehicle Vandalism                                           NaN   \n",
       "View Obstructed/Limited                                    44.0   \n",
       "Windshield Inadequate                                       NaN   \n",
       "\n",
       "                                  CONTRIBUTING FACTOR VEHICLE 4  \\\n",
       "1                                                           NaN   \n",
       "80                                                          NaN   \n",
       "Accelerator Defective                                       1.0   \n",
       "Aggressive Driving/Road Rage                                6.0   \n",
       "Alcohol Involvement                                        19.0   \n",
       "...                                                         ...   \n",
       "Unspecified                                             30175.0   \n",
       "Using On Board Navigation Device                            NaN   \n",
       "Vehicle Vandalism                                           NaN   \n",
       "View Obstructed/Limited                                     3.0   \n",
       "Windshield Inadequate                                       1.0   \n",
       "\n",
       "                                  CONTRIBUTING FACTOR VEHICLE 5  \n",
       "1                                                           NaN  \n",
       "80                                                          NaN  \n",
       "Accelerator Defective                                       NaN  \n",
       "Aggressive Driving/Road Rage                                1.0  \n",
       "Alcohol Involvement                                        10.0  \n",
       "...                                                         ...  \n",
       "Unspecified                                              8135.0  \n",
       "Using On Board Navigation Device                            NaN  \n",
       "Vehicle Vandalism                                           NaN  \n",
       "View Obstructed/Limited                                     NaN  \n",
       "Windshield Inadequate                                       NaN  \n",
       "\n",
       "[61 rows x 5 columns]"
      ]
     },
     "execution_count": 44,
     "metadata": {},
     "output_type": "execute_result"
    }
   ],
   "source": [
    "df[['CONTRIBUTING FACTOR VEHICLE 1','CONTRIBUTING FACTOR VEHICLE 2','CONTRIBUTING FACTOR VEHICLE 3','CONTRIBUTING FACTOR VEHICLE 4','CONTRIBUTING FACTOR VEHICLE 5']].apply(pd.Series.value_counts)"
   ]
  },
  {
   "cell_type": "code",
   "execution_count": 45,
   "id": "cd6a8ecb",
   "metadata": {},
   "outputs": [
    {
     "name": "stdout",
     "output_type": "stream",
     "text": [
      "----------------------------------------CRASH DATE---------------------------------------- - "
     ]
    },
    {
     "data": {
      "text/plain": [
       "01/21/2014    1161\n",
       "11/15/2018    1065\n",
       "12/15/2017     999\n",
       "05/19/2017     974\n",
       "01/18/2015     961\n",
       "02/03/2014     960\n",
       "03/06/2015     939\n",
       "05/18/2017     911\n",
       "01/07/2017     896\n",
       "03/02/2018     884\n",
       "Name: CRASH DATE, dtype: int64"
      ]
     },
     "metadata": {},
     "output_type": "display_data"
    },
    {
     "name": "stdout",
     "output_type": "stream",
     "text": [
      "----------------------------------------CRASH TIME---------------------------------------- - "
     ]
    },
    {
     "data": {
      "text/plain": [
       "16:00    27882\n",
       "17:00    27314\n",
       "15:00    27263\n",
       "18:00    25248\n",
       "14:00    24969\n",
       "13:00    23226\n",
       "9:00     21032\n",
       "12:00    20965\n",
       "19:00    20925\n",
       "16:30    20095\n",
       "Name: CRASH TIME, dtype: int64"
      ]
     },
     "metadata": {},
     "output_type": "display_data"
    },
    {
     "name": "stdout",
     "output_type": "stream",
     "text": [
      "----------------------------------------BOROUGH---------------------------------------- - "
     ]
    },
    {
     "data": {
      "text/plain": [
       "BROOKLYN         439575\n",
       "QUEENS           371347\n",
       "MANHATTAN        312528\n",
       "BRONX            204630\n",
       "STATEN ISLAND     58133\n",
       "Name: BOROUGH, dtype: int64"
      ]
     },
     "metadata": {},
     "output_type": "display_data"
    },
    {
     "name": "stdout",
     "output_type": "stream",
     "text": [
      "----------------------------------------ZIP CODE---------------------------------------- - "
     ]
    },
    {
     "data": {
      "text/plain": [
       "11207.0    19703\n",
       "11236.0    14149\n",
       "11234.0    12993\n",
       "11203.0    12949\n",
       "11385.0    12890\n",
       "11212.0    12818\n",
       "11101.0    12732\n",
       "11208.0    12642\n",
       "11226.0    12169\n",
       "11434.0    11894\n",
       "Name: ZIP CODE, dtype: int64"
      ]
     },
     "metadata": {},
     "output_type": "display_data"
    },
    {
     "name": "stdout",
     "output_type": "stream",
     "text": [
      "----------------------------------------LATITUDE---------------------------------------- - "
     ]
    },
    {
     "data": {
      "text/plain": [
       "0.000000     4214\n",
       "40.861862     848\n",
       "40.696033     740\n",
       "40.804700     691\n",
       "40.608757     671\n",
       "40.798256     627\n",
       "40.759308     613\n",
       "40.696035     587\n",
       "40.675735     532\n",
       "40.658577     498\n",
       "Name: LATITUDE, dtype: int64"
      ]
     },
     "metadata": {},
     "output_type": "display_data"
    },
    {
     "name": "stdout",
     "output_type": "stream",
     "text": [
      "----------------------------------------LONGITUDE---------------------------------------- - "
     ]
    },
    {
     "data": {
      "text/plain": [
       " 0.000000     4214\n",
       "-73.890630     732\n",
       "-73.912820     717\n",
       "-73.984530     698\n",
       "-74.038086     672\n",
       "-73.912430     652\n",
       "-73.896860     629\n",
       "-73.984529     587\n",
       "-73.882744     560\n",
       "-73.944760     558\n",
       "Name: LONGITUDE, dtype: int64"
      ]
     },
     "metadata": {},
     "output_type": "display_data"
    },
    {
     "name": "stdout",
     "output_type": "stream",
     "text": [
      "----------------------------------------LOCATION---------------------------------------- - "
     ]
    },
    {
     "data": {
      "text/plain": [
       "(0.0, 0.0)                   4214\n",
       "(40.861862, -73.91282)        685\n",
       "(40.608757, -74.038086)       670\n",
       "(40.696033, -73.98453)        646\n",
       "(40.8047, -73.91243)          597\n",
       "(40.6960346, -73.9845292)     587\n",
       "(40.675735, -73.89686)        531\n",
       "(40.658577, -73.89063)        486\n",
       "(40.7606005, -73.9643142)     474\n",
       "(40.820305, -73.89083)        467\n",
       "Name: LOCATION, dtype: int64"
      ]
     },
     "metadata": {},
     "output_type": "display_data"
    },
    {
     "name": "stdout",
     "output_type": "stream",
     "text": [
      "----------------------------------------ON STREET NAME---------------------------------------- - "
     ]
    },
    {
     "data": {
      "text/plain": [
       "BROADWAY                            17277\n",
       "ATLANTIC AVENUE                     15322\n",
       "BELT PARKWAY                        13543\n",
       "3 AVENUE                            12476\n",
       "NORTHERN BOULEVARD                  11965\n",
       "LONG ISLAND EXPRESSWAY               9928\n",
       "BROOKLYN QUEENS EXPRESSWAY           9743\n",
       "FLATBUSH AVENUE                      9741\n",
       "LINDEN BOULEVARD                     9587\n",
       "QUEENS BOULEVARD                     9368\n",
       "Name: ON STREET NAME, dtype: int64"
      ]
     },
     "metadata": {},
     "output_type": "display_data"
    },
    {
     "name": "stdout",
     "output_type": "stream",
     "text": [
      "----------------------------------------CROSS STREET NAME---------------------------------------- - "
     ]
    },
    {
     "data": {
      "text/plain": [
       "3 AVENUE                            9843\n",
       "BROADWAY                            9685\n",
       "2 AVENUE                            8421\n",
       "5 AVENUE                            7051\n",
       "7 AVENUE                            6634\n",
       "8 AVENUE                            6580\n",
       "3 AVENUE                            6453\n",
       "BROADWAY                            5997\n",
       "1 AVENUE                            5318\n",
       "PARK AVENUE                         4847\n",
       "Name: CROSS STREET NAME, dtype: int64"
      ]
     },
     "metadata": {},
     "output_type": "display_data"
    },
    {
     "name": "stdout",
     "output_type": "stream",
     "text": [
      "----------------------------------------OFF STREET NAME---------------------------------------- - "
     ]
    },
    {
     "data": {
      "text/plain": [
       "772       EDGEWATER ROAD                    402\n",
       "110-00    ROCKAWAY BOULEVARD                261\n",
       "2800      VICTORY BOULEVARD                 236\n",
       "2655      RICHMOND AVENUE                   169\n",
       "2100      BARTOW AVENUE                     167\n",
       "501       GATEWAY DRIVE                     164\n",
       "PARKING LOT 110-00 ROCKAWAY BOULEVARD       150\n",
       "450       FLATBUSH AVENUE                   145\n",
       "625       ATLANTIC AVENUE                   145\n",
       "3 AVENUE                                    142\n",
       "Name: OFF STREET NAME, dtype: int64"
      ]
     },
     "metadata": {},
     "output_type": "display_data"
    },
    {
     "name": "stdout",
     "output_type": "stream",
     "text": [
      "----------------------------------------NUMBER OF PERSONS INJURED---------------------------------------- - "
     ]
    },
    {
     "data": {
      "text/plain": [
       "0.0    1564899\n",
       "1.0     347071\n",
       "2.0      65376\n",
       "3.0      21353\n",
       "4.0       7948\n",
       "5.0       3085\n",
       "6.0       1279\n",
       "7.0        548\n",
       "8.0        239\n",
       "9.0        119\n",
       "Name: NUMBER OF PERSONS INJURED, dtype: int64"
      ]
     },
     "metadata": {},
     "output_type": "display_data"
    },
    {
     "name": "stdout",
     "output_type": "stream",
     "text": [
      "----------------------------------------NUMBER OF PERSONS KILLED---------------------------------------- - "
     ]
    },
    {
     "data": {
      "text/plain": [
       "0.0    2009357\n",
       "1.0       2697\n",
       "2.0         71\n",
       "3.0         12\n",
       "4.0          3\n",
       "8.0          1\n",
       "5.0          1\n",
       "Name: NUMBER OF PERSONS KILLED, dtype: int64"
      ]
     },
     "metadata": {},
     "output_type": "display_data"
    },
    {
     "name": "stdout",
     "output_type": "stream",
     "text": [
      "----------------------------------------NUMBER OF PEDESTRIANS INJURED---------------------------------------- - "
     ]
    },
    {
     "data": {
      "text/plain": [
       "0     1905841\n",
       "1      102439\n",
       "2        3447\n",
       "3         344\n",
       "4          56\n",
       "5          25\n",
       "6          11\n",
       "7           3\n",
       "9           2\n",
       "27          1\n",
       "Name: NUMBER OF PEDESTRIANS INJURED, dtype: int64"
      ]
     },
     "metadata": {},
     "output_type": "display_data"
    },
    {
     "name": "stdout",
     "output_type": "stream",
     "text": [
      "----------------------------------------NUMBER OF PEDESTRIANS KILLED---------------------------------------- - "
     ]
    },
    {
     "data": {
      "text/plain": [
       "0    2010732\n",
       "1       1428\n",
       "2         12\n",
       "6          1\n",
       "Name: NUMBER OF PEDESTRIANS KILLED, dtype: int64"
      ]
     },
     "metadata": {},
     "output_type": "display_data"
    },
    {
     "name": "stdout",
     "output_type": "stream",
     "text": [
      "----------------------------------------NUMBER OF CYCLIST INJURED---------------------------------------- - "
     ]
    },
    {
     "data": {
      "text/plain": [
       "0    1960431\n",
       "1      51173\n",
       "2        547\n",
       "3         21\n",
       "4          1\n",
       "Name: NUMBER OF CYCLIST INJURED, dtype: int64"
      ]
     },
     "metadata": {},
     "output_type": "display_data"
    },
    {
     "name": "stdout",
     "output_type": "stream",
     "text": [
      "----------------------------------------NUMBER OF CYCLIST KILLED---------------------------------------- - "
     ]
    },
    {
     "data": {
      "text/plain": [
       "0    2011950\n",
       "1        222\n",
       "2          1\n",
       "Name: NUMBER OF CYCLIST KILLED, dtype: int64"
      ]
     },
     "metadata": {},
     "output_type": "display_data"
    },
    {
     "name": "stdout",
     "output_type": "stream",
     "text": [
      "----------------------------------------NUMBER OF MOTORIST INJURED---------------------------------------- - "
     ]
    },
    {
     "data": {
      "text/plain": [
       "0    1726106\n",
       "1     192429\n",
       "2      59755\n",
       "3      20724\n",
       "4       7792\n",
       "5       3035\n",
       "6       1234\n",
       "7        524\n",
       "8        230\n",
       "9        115\n",
       "Name: NUMBER OF MOTORIST INJURED, dtype: int64"
      ]
     },
     "metadata": {},
     "output_type": "display_data"
    },
    {
     "name": "stdout",
     "output_type": "stream",
     "text": [
      "----------------------------------------NUMBER OF MOTORIST KILLED---------------------------------------- - "
     ]
    },
    {
     "data": {
      "text/plain": [
       "0    2011082\n",
       "1       1021\n",
       "2         55\n",
       "3         12\n",
       "4          2\n",
       "5          1\n",
       "Name: NUMBER OF MOTORIST KILLED, dtype: int64"
      ]
     },
     "metadata": {},
     "output_type": "display_data"
    },
    {
     "name": "stdout",
     "output_type": "stream",
     "text": [
      "----------------------------------------CONTRIBUTING FACTOR VEHICLE 1---------------------------------------- - "
     ]
    },
    {
     "data": {
      "text/plain": [
       "Unspecified                       691207\n",
       "Driver Inattention/Distraction    399797\n",
       "Failure to Yield Right-of-Way     118777\n",
       "Following Too Closely             107063\n",
       "Backing Unsafely                   74861\n",
       "Other Vehicular                    62514\n",
       "Passing or Lane Usage Improper     55177\n",
       "Turning Improperly                 49778\n",
       "Passing Too Closely                49645\n",
       "Fatigued/Drowsy                    47337\n",
       "Name: CONTRIBUTING FACTOR VEHICLE 1, dtype: int64"
      ]
     },
     "metadata": {},
     "output_type": "display_data"
    },
    {
     "name": "stdout",
     "output_type": "stream",
     "text": [
      "----------------------------------------CONTRIBUTING FACTOR VEHICLE 2---------------------------------------- - "
     ]
    },
    {
     "data": {
      "text/plain": [
       "Unspecified                       1436040\n",
       "Driver Inattention/Distraction      91425\n",
       "Other Vehicular                     31273\n",
       "Following Too Closely               18290\n",
       "Failure to Yield Right-of-Way       16709\n",
       "Passing or Lane Usage Improper      12392\n",
       "Fatigued/Drowsy                     10834\n",
       "Turning Improperly                   8598\n",
       "Passing Too Closely                  8463\n",
       "Backing Unsafely                     7789\n",
       "Name: CONTRIBUTING FACTOR VEHICLE 2, dtype: int64"
      ]
     },
     "metadata": {},
     "output_type": "display_data"
    },
    {
     "name": "stdout",
     "output_type": "stream",
     "text": [
      "----------------------------------------CONTRIBUTING FACTOR VEHICLE 3---------------------------------------- - "
     ]
    },
    {
     "data": {
      "text/plain": [
       "Unspecified                       132912\n",
       "Other Vehicular                     2650\n",
       "Driver Inattention/Distraction      1874\n",
       "Following Too Closely               1849\n",
       "Fatigued/Drowsy                      853\n",
       "Pavement Slippery                    380\n",
       "Reaction to Uninvolved Vehicle       200\n",
       "Driver Inexperience                  174\n",
       "Outside Car Distraction              160\n",
       "Traffic Control Disregarded          153\n",
       "Name: CONTRIBUTING FACTOR VEHICLE 3, dtype: int64"
      ]
     },
     "metadata": {},
     "output_type": "display_data"
    },
    {
     "name": "stdout",
     "output_type": "stream",
     "text": [
      "----------------------------------------CONTRIBUTING FACTOR VEHICLE 4---------------------------------------- - "
     ]
    },
    {
     "data": {
      "text/plain": [
       "Unspecified                       30175\n",
       "Other Vehicular                     572\n",
       "Following Too Closely               366\n",
       "Driver Inattention/Distraction      266\n",
       "Fatigued/Drowsy                     170\n",
       "Pavement Slippery                   110\n",
       "Reaction to Uninvolved Vehicle       39\n",
       "Driver Inexperience                  27\n",
       "Outside Car Distraction              27\n",
       "Unsafe Speed                         27\n",
       "Name: CONTRIBUTING FACTOR VEHICLE 4, dtype: int64"
      ]
     },
     "metadata": {},
     "output_type": "display_data"
    },
    {
     "name": "stdout",
     "output_type": "stream",
     "text": [
      "----------------------------------------CONTRIBUTING FACTOR VEHICLE 5---------------------------------------- - "
     ]
    },
    {
     "data": {
      "text/plain": [
       "Unspecified                       8135\n",
       "Other Vehicular                    165\n",
       "Following Too Closely               89\n",
       "Driver Inattention/Distraction      63\n",
       "Pavement Slippery                   47\n",
       "Fatigued/Drowsy                     41\n",
       "Reaction to Uninvolved Vehicle      12\n",
       "Alcohol Involvement                 10\n",
       "Driver Inexperience                 10\n",
       "Unsafe Speed                         9\n",
       "Name: CONTRIBUTING FACTOR VEHICLE 5, dtype: int64"
      ]
     },
     "metadata": {},
     "output_type": "display_data"
    },
    {
     "name": "stdout",
     "output_type": "stream",
     "text": [
      "----------------------------------------COLLISION_ID---------------------------------------- - "
     ]
    },
    {
     "data": {
      "text/plain": [
       "4455765    1\n",
       "3216331    1\n",
       "3214450    1\n",
       "3213446    1\n",
       "3218129    1\n",
       "3222426    1\n",
       "3214756    1\n",
       "3214192    1\n",
       "3222390    1\n",
       "3218985    1\n",
       "Name: COLLISION_ID, dtype: int64"
      ]
     },
     "metadata": {},
     "output_type": "display_data"
    },
    {
     "name": "stdout",
     "output_type": "stream",
     "text": [
      "----------------------------------------Vehicle1---------------------------------------- - "
     ]
    },
    {
     "data": {
      "text/plain": [
       "Sedan                                  547926\n",
       "Station Wagon/Sport Utility Vehicle    431578\n",
       "PASSENGER VEHICLE                      416206\n",
       "SPORT UTILITY / STATION WAGON          180291\n",
       "Taxi                                    49858\n",
       "4 dr sedan                              40158\n",
       "Pick-up Truck                           33214\n",
       "TAXI                                    31911\n",
       "VAN                                     25266\n",
       "Box Truck                               23326\n",
       "Name: Vehicle1, dtype: int64"
      ]
     },
     "metadata": {},
     "output_type": "display_data"
    },
    {
     "name": "stdout",
     "output_type": "stream",
     "text": [
      "----------------------------------------Vehicle2---------------------------------------- - "
     ]
    },
    {
     "data": {
      "text/plain": [
       "Sedan                                  387169\n",
       "PASSENGER VEHICLE                      318607\n",
       "Station Wagon/Sport Utility Vehicle    313998\n",
       "SPORT UTILITY / STATION WAGON          140204\n",
       "UNKNOWN                                 81498\n",
       "Taxi                                    36584\n",
       "Pick-up Truck                           30230\n",
       "4 dr sedan                              30073\n",
       "Bike                                    29345\n",
       "TAXI                                    27702\n",
       "Name: Vehicle2, dtype: int64"
      ]
     },
     "metadata": {},
     "output_type": "display_data"
    },
    {
     "name": "stdout",
     "output_type": "stream",
     "text": [
      "----------------------------------------Vehicle3---------------------------------------- - "
     ]
    },
    {
     "data": {
      "text/plain": [
       "Sedan                                  41889\n",
       "Station Wagon/Sport Utility Vehicle    33971\n",
       "PASSENGER VEHICLE                      27713\n",
       "SPORT UTILITY / STATION WAGON          13358\n",
       "UNKNOWN                                 3284\n",
       "4 dr sedan                              2563\n",
       "Pick-up Truck                           2139\n",
       "Taxi                                    2132\n",
       "VAN                                     1366\n",
       "OTHER                                   1045\n",
       "Name: Vehicle3, dtype: int64"
      ]
     },
     "metadata": {},
     "output_type": "display_data"
    },
    {
     "name": "stdout",
     "output_type": "stream",
     "text": [
      "----------------------------------------Vehicle4---------------------------------------- - "
     ]
    },
    {
     "data": {
      "text/plain": [
       "Sedan                                  10113\n",
       "Station Wagon/Sport Utility Vehicle     8253\n",
       "PASSENGER VEHICLE                       5969\n",
       "SPORT UTILITY / STATION WAGON           2852\n",
       "UNKNOWN                                  595\n",
       "4 dr sedan                               567\n",
       "Pick-up Truck                            454\n",
       "Taxi                                     422\n",
       "VAN                                      242\n",
       "OTHER                                    189\n",
       "Name: Vehicle4, dtype: int64"
      ]
     },
     "metadata": {},
     "output_type": "display_data"
    },
    {
     "name": "stdout",
     "output_type": "stream",
     "text": [
      "----------------------------------------Vehicle5---------------------------------------- - "
     ]
    },
    {
     "data": {
      "text/plain": [
       "Sedan                                  2831\n",
       "Station Wagon/Sport Utility Vehicle    2349\n",
       "PASSENGER VEHICLE                      1487\n",
       "SPORT UTILITY / STATION WAGON           802\n",
       "Pick-up Truck                           143\n",
       "4 dr sedan                              123\n",
       "Taxi                                    102\n",
       "UNKNOWN                                  94\n",
       "VAN                                      50\n",
       "OTHER                                    49\n",
       "Name: Vehicle5, dtype: int64"
      ]
     },
     "metadata": {},
     "output_type": "display_data"
    }
   ],
   "source": [
    "for col in df.columns:\n",
    "    print('-' * 40 + col + '-' * 40 , end=' - ')\n",
    "    display(df[col].value_counts().head(10))\n",
    "    ### by looking at the contributing factors we can tell that the top factors are unspecified,driver inattention/distraction,\n",
    "    ### following too closely, failure to yield right of law,other vehicular\n",
    "    ### the highest number of accidents occured on a single date is 1161 which was of 21st of june in 2014\n",
    "    ### the second highest was on 15th november in 2018"
   ]
  },
  {
   "cell_type": "code",
   "execution_count": 46,
   "id": "e0feeba9",
   "metadata": {},
   "outputs": [
    {
     "data": {
      "text/plain": [
       "2298469"
      ]
     },
     "execution_count": 46,
     "metadata": {},
     "output_type": "execute_result"
    }
   ],
   "source": [
    "filtr = df == 'Unspecified'\n",
    "df[filtr].count().agg(sum)"
   ]
  },
  {
   "cell_type": "code",
   "execution_count": 47,
   "id": "a2bf4f52",
   "metadata": {},
   "outputs": [
    {
     "data": {
      "text/plain": [
       "493425"
      ]
     },
     "execution_count": 47,
     "metadata": {},
     "output_type": "execute_result"
    }
   ],
   "source": [
    "filtr = df == 'Driver Inattention/Distraction'\n",
    "df[filtr].count().agg(sum)"
   ]
  },
  {
   "cell_type": "code",
   "execution_count": 48,
   "id": "2cd5a04b",
   "metadata": {},
   "outputs": [
    {
     "data": {
      "text/plain": [
       "97174"
      ]
     },
     "execution_count": 48,
     "metadata": {},
     "output_type": "execute_result"
    }
   ],
   "source": [
    "filtr = df == 'Other Vehicular'\n",
    "df[filtr].count().agg(sum)"
   ]
  },
  {
   "cell_type": "code",
   "execution_count": 49,
   "id": "4ad6025d",
   "metadata": {},
   "outputs": [
    {
     "data": {
      "text/plain": [
       "127657"
      ]
     },
     "execution_count": 49,
     "metadata": {},
     "output_type": "execute_result"
    }
   ],
   "source": [
    "filtr = df == 'Following Too Closely'\n",
    "df[filtr].count().agg(sum)"
   ]
  },
  {
   "cell_type": "code",
   "execution_count": 50,
   "id": "d38c4e01",
   "metadata": {},
   "outputs": [
    {
     "data": {
      "text/plain": [
       "135650"
      ]
     },
     "execution_count": 50,
     "metadata": {},
     "output_type": "execute_result"
    }
   ],
   "source": [
    "filtr = df == 'Failure to Yield Right-of-Way'\n",
    "df[filtr].count().agg(sum)"
   ]
  },
  {
   "cell_type": "code",
   "execution_count": 51,
   "id": "447d232b",
   "metadata": {},
   "outputs": [],
   "source": [
    "### from the above info we can tell that the top 5 factors contributing to accidents are\n",
    "### 1)Unspecified with (2298469)\n",
    "### 2)Driver Inattention/Distraction with (493425)\n",
    "### 3)Failure to Yield Right-of-Way with (135650) \n",
    "### 4)Following Too Closely with (127657)\n",
    "### 5)Other Vehicular with (97174)\n"
   ]
  },
  {
   "cell_type": "code",
   "execution_count": 52,
   "id": "256a78e2",
   "metadata": {},
   "outputs": [],
   "source": [
    "### now i'll work with the time columns to see what time the most accidents occured \n",
    "### and further see at what time most deaths occured"
   ]
  },
  {
   "cell_type": "code",
   "execution_count": 53,
   "id": "747ba8e5",
   "metadata": {},
   "outputs": [],
   "source": [
    "df.rename(columns={'CRASH DATE':'CRASHDATE','CRASH TIME':'CRASHTIME'},inplace=True)"
   ]
  },
  {
   "cell_type": "code",
   "execution_count": 54,
   "id": "df08a0c6",
   "metadata": {},
   "outputs": [],
   "source": [
    "df['CRASHDATE'] = pd.to_datetime(df['CRASHDATE'])\n"
   ]
  },
  {
   "cell_type": "code",
   "execution_count": 55,
   "id": "af5551af",
   "metadata": {
    "scrolled": true
   },
   "outputs": [],
   "source": [
    "df['CRASHTIME'] = pd.to_datetime(df['CRASHTIME'], format='%H:%M').dt.time"
   ]
  },
  {
   "cell_type": "code",
   "execution_count": 56,
   "id": "56da3281",
   "metadata": {},
   "outputs": [
    {
     "data": {
      "text/plain": [
       "0          02:39:00\n",
       "1          11:45:00\n",
       "2          06:55:00\n",
       "3          09:35:00\n",
       "4          08:13:00\n",
       "             ...   \n",
       "2012168    14:57:00\n",
       "2012169    20:48:00\n",
       "2012170    18:24:00\n",
       "2012171    22:54:00\n",
       "2012172    08:15:00\n",
       "Name: CRASHTIME, Length: 2012173, dtype: object"
      ]
     },
     "execution_count": 56,
     "metadata": {},
     "output_type": "execute_result"
    }
   ],
   "source": [
    "df.CRASHTIME"
   ]
  },
  {
   "cell_type": "code",
   "execution_count": 57,
   "id": "4cc8abf9",
   "metadata": {},
   "outputs": [
    {
     "data": {
      "text/plain": [
       "16:00:00    27882\n",
       "17:00:00    27314\n",
       "15:00:00    27263\n",
       "18:00:00    25248\n",
       "14:00:00    24969\n",
       "            ...  \n",
       "05:31:00       93\n",
       "04:02:00       91\n",
       "02:31:00       90\n",
       "04:31:00       88\n",
       "03:31:00       87\n",
       "Name: CRASHTIME, Length: 1440, dtype: int64"
      ]
     },
     "execution_count": 57,
     "metadata": {},
     "output_type": "execute_result"
    }
   ],
   "source": [
    "df.CRASHTIME.value_counts()"
   ]
  },
  {
   "cell_type": "code",
   "execution_count": 58,
   "id": "0a7ca0ec",
   "metadata": {},
   "outputs": [],
   "source": [
    "### FROM THE ABOVE WE CAN TELL THAT THE MOST NUMBER OF ACCIDENTS OCCUR AT THE FOLLOWING TIMES\n",
    "### 1)16:00:00 WHICH HAD 27882 ACCIDENTS \n",
    "### 2)17:00:00 WHICH HAD 27314 ACCIDENTS\n",
    "### 3)15:00:00 WHICH HAD 27263 ACCIDENTS\n",
    "### 4)18:00:00 WHICH HAD 25248 ACCIDENTS\n",
    "### 5)14:00:00 WHICH HAD 24969 ACCIDENTS\n",
    "### majority of the accidents happen between 14:00:00 to 16:00:00"
   ]
  },
  {
   "cell_type": "code",
   "execution_count": 59,
   "id": "e4f4657d",
   "metadata": {
    "scrolled": true
   },
   "outputs": [],
   "source": [
    "filt = df['CRASHDATE'] == '2019' "
   ]
  },
  {
   "cell_type": "code",
   "execution_count": 61,
   "id": "8ab110fd",
   "metadata": {},
   "outputs": [],
   "source": [
    "df['DAYOFWEEK'] = df['CRASHDATE'].dt.day_name()"
   ]
  },
  {
   "cell_type": "code",
   "execution_count": 62,
   "id": "c58e7878",
   "metadata": {},
   "outputs": [],
   "source": [
    "df['MONTH'] = df['CRASHDATE'].dt.month_name()\n",
    "### GETTING THE NAME OF MONTH"
   ]
  },
  {
   "cell_type": "code",
   "execution_count": 63,
   "id": "fa9976f3",
   "metadata": {},
   "outputs": [
    {
     "data": {
      "text/html": [
       "<div>\n",
       "<style scoped>\n",
       "    .dataframe tbody tr th:only-of-type {\n",
       "        vertical-align: middle;\n",
       "    }\n",
       "\n",
       "    .dataframe tbody tr th {\n",
       "        vertical-align: top;\n",
       "    }\n",
       "\n",
       "    .dataframe thead th {\n",
       "        text-align: right;\n",
       "    }\n",
       "</style>\n",
       "<table border=\"1\" class=\"dataframe\">\n",
       "  <thead>\n",
       "    <tr style=\"text-align: right;\">\n",
       "      <th></th>\n",
       "      <th>CRASHDATE</th>\n",
       "      <th>CRASHTIME</th>\n",
       "      <th>BOROUGH</th>\n",
       "      <th>ZIP CODE</th>\n",
       "      <th>LATITUDE</th>\n",
       "      <th>LONGITUDE</th>\n",
       "      <th>LOCATION</th>\n",
       "      <th>ON STREET NAME</th>\n",
       "      <th>CROSS STREET NAME</th>\n",
       "      <th>OFF STREET NAME</th>\n",
       "      <th>...</th>\n",
       "      <th>CONTRIBUTING FACTOR VEHICLE 4</th>\n",
       "      <th>CONTRIBUTING FACTOR VEHICLE 5</th>\n",
       "      <th>COLLISION_ID</th>\n",
       "      <th>Vehicle1</th>\n",
       "      <th>Vehicle2</th>\n",
       "      <th>Vehicle3</th>\n",
       "      <th>Vehicle4</th>\n",
       "      <th>Vehicle5</th>\n",
       "      <th>DAYOFWEEK</th>\n",
       "      <th>MONTH</th>\n",
       "    </tr>\n",
       "  </thead>\n",
       "  <tbody>\n",
       "    <tr>\n",
       "      <th>0</th>\n",
       "      <td>2021-09-11</td>\n",
       "      <td>02:39:00</td>\n",
       "      <td>NaN</td>\n",
       "      <td>NaN</td>\n",
       "      <td>NaN</td>\n",
       "      <td>NaN</td>\n",
       "      <td>NaN</td>\n",
       "      <td>WHITESTONE EXPRESSWAY</td>\n",
       "      <td>20 AVENUE</td>\n",
       "      <td>NaN</td>\n",
       "      <td>...</td>\n",
       "      <td>NaN</td>\n",
       "      <td>NaN</td>\n",
       "      <td>4455765</td>\n",
       "      <td>Sedan</td>\n",
       "      <td>Sedan</td>\n",
       "      <td>NaN</td>\n",
       "      <td>NaN</td>\n",
       "      <td>NaN</td>\n",
       "      <td>Saturday</td>\n",
       "      <td>September</td>\n",
       "    </tr>\n",
       "    <tr>\n",
       "      <th>1</th>\n",
       "      <td>2022-03-26</td>\n",
       "      <td>11:45:00</td>\n",
       "      <td>NaN</td>\n",
       "      <td>NaN</td>\n",
       "      <td>NaN</td>\n",
       "      <td>NaN</td>\n",
       "      <td>NaN</td>\n",
       "      <td>QUEENSBORO BRIDGE UPPER</td>\n",
       "      <td>NaN</td>\n",
       "      <td>NaN</td>\n",
       "      <td>...</td>\n",
       "      <td>NaN</td>\n",
       "      <td>NaN</td>\n",
       "      <td>4513547</td>\n",
       "      <td>Sedan</td>\n",
       "      <td>NaN</td>\n",
       "      <td>NaN</td>\n",
       "      <td>NaN</td>\n",
       "      <td>NaN</td>\n",
       "      <td>Saturday</td>\n",
       "      <td>March</td>\n",
       "    </tr>\n",
       "    <tr>\n",
       "      <th>2</th>\n",
       "      <td>2022-06-29</td>\n",
       "      <td>06:55:00</td>\n",
       "      <td>NaN</td>\n",
       "      <td>NaN</td>\n",
       "      <td>NaN</td>\n",
       "      <td>NaN</td>\n",
       "      <td>NaN</td>\n",
       "      <td>THROGS NECK BRIDGE</td>\n",
       "      <td>NaN</td>\n",
       "      <td>NaN</td>\n",
       "      <td>...</td>\n",
       "      <td>NaN</td>\n",
       "      <td>NaN</td>\n",
       "      <td>4541903</td>\n",
       "      <td>Sedan</td>\n",
       "      <td>Pick-up Truck</td>\n",
       "      <td>NaN</td>\n",
       "      <td>NaN</td>\n",
       "      <td>NaN</td>\n",
       "      <td>Wednesday</td>\n",
       "      <td>June</td>\n",
       "    </tr>\n",
       "    <tr>\n",
       "      <th>3</th>\n",
       "      <td>2021-09-11</td>\n",
       "      <td>09:35:00</td>\n",
       "      <td>BROOKLYN</td>\n",
       "      <td>11208.0</td>\n",
       "      <td>40.667202</td>\n",
       "      <td>-73.866500</td>\n",
       "      <td>(40.667202, -73.8665)</td>\n",
       "      <td>NaN</td>\n",
       "      <td>NaN</td>\n",
       "      <td>1211      LORING AVENUE</td>\n",
       "      <td>...</td>\n",
       "      <td>NaN</td>\n",
       "      <td>NaN</td>\n",
       "      <td>4456314</td>\n",
       "      <td>Sedan</td>\n",
       "      <td>NaN</td>\n",
       "      <td>NaN</td>\n",
       "      <td>NaN</td>\n",
       "      <td>NaN</td>\n",
       "      <td>Saturday</td>\n",
       "      <td>September</td>\n",
       "    </tr>\n",
       "    <tr>\n",
       "      <th>4</th>\n",
       "      <td>2021-12-14</td>\n",
       "      <td>08:13:00</td>\n",
       "      <td>BROOKLYN</td>\n",
       "      <td>11233.0</td>\n",
       "      <td>40.683304</td>\n",
       "      <td>-73.917274</td>\n",
       "      <td>(40.683304, -73.917274)</td>\n",
       "      <td>SARATOGA AVENUE</td>\n",
       "      <td>DECATUR STREET</td>\n",
       "      <td>NaN</td>\n",
       "      <td>...</td>\n",
       "      <td>NaN</td>\n",
       "      <td>NaN</td>\n",
       "      <td>4486609</td>\n",
       "      <td>NaN</td>\n",
       "      <td>NaN</td>\n",
       "      <td>NaN</td>\n",
       "      <td>NaN</td>\n",
       "      <td>NaN</td>\n",
       "      <td>Tuesday</td>\n",
       "      <td>December</td>\n",
       "    </tr>\n",
       "    <tr>\n",
       "      <th>...</th>\n",
       "      <td>...</td>\n",
       "      <td>...</td>\n",
       "      <td>...</td>\n",
       "      <td>...</td>\n",
       "      <td>...</td>\n",
       "      <td>...</td>\n",
       "      <td>...</td>\n",
       "      <td>...</td>\n",
       "      <td>...</td>\n",
       "      <td>...</td>\n",
       "      <td>...</td>\n",
       "      <td>...</td>\n",
       "      <td>...</td>\n",
       "      <td>...</td>\n",
       "      <td>...</td>\n",
       "      <td>...</td>\n",
       "      <td>...</td>\n",
       "      <td>...</td>\n",
       "      <td>...</td>\n",
       "      <td>...</td>\n",
       "      <td>...</td>\n",
       "    </tr>\n",
       "    <tr>\n",
       "      <th>2012168</th>\n",
       "      <td>2023-05-22</td>\n",
       "      <td>14:57:00</td>\n",
       "      <td>BRONX</td>\n",
       "      <td>10468.0</td>\n",
       "      <td>40.862442</td>\n",
       "      <td>-73.897150</td>\n",
       "      <td>(40.862442, -73.89715)</td>\n",
       "      <td>EAST FORDHAM ROAD</td>\n",
       "      <td>GRAND CONCOURSE</td>\n",
       "      <td>NaN</td>\n",
       "      <td>...</td>\n",
       "      <td>NaN</td>\n",
       "      <td>NaN</td>\n",
       "      <td>4631254</td>\n",
       "      <td>Sedan</td>\n",
       "      <td>Station Wagon/Sport Utility Vehicle</td>\n",
       "      <td>NaN</td>\n",
       "      <td>NaN</td>\n",
       "      <td>NaN</td>\n",
       "      <td>Monday</td>\n",
       "      <td>May</td>\n",
       "    </tr>\n",
       "    <tr>\n",
       "      <th>2012169</th>\n",
       "      <td>2023-05-19</td>\n",
       "      <td>20:48:00</td>\n",
       "      <td>BROOKLYN</td>\n",
       "      <td>11223.0</td>\n",
       "      <td>40.590110</td>\n",
       "      <td>-73.974220</td>\n",
       "      <td>(40.59011, -73.97422)</td>\n",
       "      <td>AVENUE X</td>\n",
       "      <td>SHELL ROAD</td>\n",
       "      <td>NaN</td>\n",
       "      <td>...</td>\n",
       "      <td>NaN</td>\n",
       "      <td>NaN</td>\n",
       "      <td>4631685</td>\n",
       "      <td>Station Wagon/Sport Utility Vehicle</td>\n",
       "      <td>NaN</td>\n",
       "      <td>NaN</td>\n",
       "      <td>NaN</td>\n",
       "      <td>NaN</td>\n",
       "      <td>Friday</td>\n",
       "      <td>May</td>\n",
       "    </tr>\n",
       "    <tr>\n",
       "      <th>2012170</th>\n",
       "      <td>2023-03-10</td>\n",
       "      <td>18:24:00</td>\n",
       "      <td>BRONX</td>\n",
       "      <td>10456.0</td>\n",
       "      <td>40.820360</td>\n",
       "      <td>-73.910200</td>\n",
       "      <td>(40.82036, -73.9102)</td>\n",
       "      <td>NaN</td>\n",
       "      <td>NaN</td>\n",
       "      <td>780       SAINT ANNS AVENUE</td>\n",
       "      <td>...</td>\n",
       "      <td>NaN</td>\n",
       "      <td>NaN</td>\n",
       "      <td>4631695</td>\n",
       "      <td>NaN</td>\n",
       "      <td>NaN</td>\n",
       "      <td>NaN</td>\n",
       "      <td>NaN</td>\n",
       "      <td>NaN</td>\n",
       "      <td>Friday</td>\n",
       "      <td>March</td>\n",
       "    </tr>\n",
       "    <tr>\n",
       "      <th>2012171</th>\n",
       "      <td>2023-05-10</td>\n",
       "      <td>22:54:00</td>\n",
       "      <td>NaN</td>\n",
       "      <td>NaN</td>\n",
       "      <td>NaN</td>\n",
       "      <td>NaN</td>\n",
       "      <td>NaN</td>\n",
       "      <td>BROOKLYN BATTERY TUNNEL</td>\n",
       "      <td>NaN</td>\n",
       "      <td>NaN</td>\n",
       "      <td>...</td>\n",
       "      <td>NaN</td>\n",
       "      <td>NaN</td>\n",
       "      <td>4631718</td>\n",
       "      <td>Sedan</td>\n",
       "      <td>Sedan</td>\n",
       "      <td>NaN</td>\n",
       "      <td>NaN</td>\n",
       "      <td>NaN</td>\n",
       "      <td>Wednesday</td>\n",
       "      <td>May</td>\n",
       "    </tr>\n",
       "    <tr>\n",
       "      <th>2012172</th>\n",
       "      <td>2023-05-22</td>\n",
       "      <td>08:15:00</td>\n",
       "      <td>BROOKLYN</td>\n",
       "      <td>11207.0</td>\n",
       "      <td>40.672580</td>\n",
       "      <td>-73.891220</td>\n",
       "      <td>(40.67258, -73.89122)</td>\n",
       "      <td>PITKIN AVENUE</td>\n",
       "      <td>MILLER AVENUE</td>\n",
       "      <td>NaN</td>\n",
       "      <td>...</td>\n",
       "      <td>NaN</td>\n",
       "      <td>NaN</td>\n",
       "      <td>4631311</td>\n",
       "      <td>Station Wagon/Sport Utility Vehicle</td>\n",
       "      <td>Sedan</td>\n",
       "      <td>Sedan</td>\n",
       "      <td>NaN</td>\n",
       "      <td>NaN</td>\n",
       "      <td>Monday</td>\n",
       "      <td>May</td>\n",
       "    </tr>\n",
       "  </tbody>\n",
       "</table>\n",
       "<p>2012173 rows × 31 columns</p>\n",
       "</div>"
      ],
      "text/plain": [
       "         CRASHDATE CRASHTIME   BOROUGH ZIP CODE   LATITUDE  LONGITUDE  \\\n",
       "0       2021-09-11  02:39:00       NaN      NaN        NaN        NaN   \n",
       "1       2022-03-26  11:45:00       NaN      NaN        NaN        NaN   \n",
       "2       2022-06-29  06:55:00       NaN      NaN        NaN        NaN   \n",
       "3       2021-09-11  09:35:00  BROOKLYN  11208.0  40.667202 -73.866500   \n",
       "4       2021-12-14  08:13:00  BROOKLYN  11233.0  40.683304 -73.917274   \n",
       "...            ...       ...       ...      ...        ...        ...   \n",
       "2012168 2023-05-22  14:57:00     BRONX  10468.0  40.862442 -73.897150   \n",
       "2012169 2023-05-19  20:48:00  BROOKLYN  11223.0  40.590110 -73.974220   \n",
       "2012170 2023-03-10  18:24:00     BRONX  10456.0  40.820360 -73.910200   \n",
       "2012171 2023-05-10  22:54:00       NaN      NaN        NaN        NaN   \n",
       "2012172 2023-05-22  08:15:00  BROOKLYN  11207.0  40.672580 -73.891220   \n",
       "\n",
       "                        LOCATION           ON STREET NAME CROSS STREET NAME  \\\n",
       "0                            NaN    WHITESTONE EXPRESSWAY         20 AVENUE   \n",
       "1                            NaN  QUEENSBORO BRIDGE UPPER               NaN   \n",
       "2                            NaN       THROGS NECK BRIDGE               NaN   \n",
       "3          (40.667202, -73.8665)                      NaN               NaN   \n",
       "4        (40.683304, -73.917274)          SARATOGA AVENUE    DECATUR STREET   \n",
       "...                          ...                      ...               ...   \n",
       "2012168   (40.862442, -73.89715)        EAST FORDHAM ROAD   GRAND CONCOURSE   \n",
       "2012169    (40.59011, -73.97422)                 AVENUE X        SHELL ROAD   \n",
       "2012170     (40.82036, -73.9102)                      NaN               NaN   \n",
       "2012171                      NaN  BROOKLYN BATTERY TUNNEL               NaN   \n",
       "2012172    (40.67258, -73.89122)            PITKIN AVENUE     MILLER AVENUE   \n",
       "\n",
       "                     OFF STREET NAME  ...  CONTRIBUTING FACTOR VEHICLE 4  \\\n",
       "0                                NaN  ...                            NaN   \n",
       "1                                NaN  ...                            NaN   \n",
       "2                                NaN  ...                            NaN   \n",
       "3            1211      LORING AVENUE  ...                            NaN   \n",
       "4                                NaN  ...                            NaN   \n",
       "...                              ...  ...                            ...   \n",
       "2012168                          NaN  ...                            NaN   \n",
       "2012169                          NaN  ...                            NaN   \n",
       "2012170  780       SAINT ANNS AVENUE  ...                            NaN   \n",
       "2012171                          NaN  ...                            NaN   \n",
       "2012172                          NaN  ...                            NaN   \n",
       "\n",
       "         CONTRIBUTING FACTOR VEHICLE 5  COLLISION_ID  \\\n",
       "0                                  NaN       4455765   \n",
       "1                                  NaN       4513547   \n",
       "2                                  NaN       4541903   \n",
       "3                                  NaN       4456314   \n",
       "4                                  NaN       4486609   \n",
       "...                                ...           ...   \n",
       "2012168                            NaN       4631254   \n",
       "2012169                            NaN       4631685   \n",
       "2012170                            NaN       4631695   \n",
       "2012171                            NaN       4631718   \n",
       "2012172                            NaN       4631311   \n",
       "\n",
       "                                    Vehicle1  \\\n",
       "0                                      Sedan   \n",
       "1                                      Sedan   \n",
       "2                                      Sedan   \n",
       "3                                      Sedan   \n",
       "4                                        NaN   \n",
       "...                                      ...   \n",
       "2012168                                Sedan   \n",
       "2012169  Station Wagon/Sport Utility Vehicle   \n",
       "2012170                                  NaN   \n",
       "2012171                                Sedan   \n",
       "2012172  Station Wagon/Sport Utility Vehicle   \n",
       "\n",
       "                                    Vehicle2  Vehicle3  Vehicle4  Vehicle5  \\\n",
       "0                                      Sedan       NaN       NaN       NaN   \n",
       "1                                        NaN       NaN       NaN       NaN   \n",
       "2                              Pick-up Truck       NaN       NaN       NaN   \n",
       "3                                        NaN       NaN       NaN       NaN   \n",
       "4                                        NaN       NaN       NaN       NaN   \n",
       "...                                      ...       ...       ...       ...   \n",
       "2012168  Station Wagon/Sport Utility Vehicle       NaN       NaN       NaN   \n",
       "2012169                                  NaN       NaN       NaN       NaN   \n",
       "2012170                                  NaN       NaN       NaN       NaN   \n",
       "2012171                                Sedan       NaN       NaN       NaN   \n",
       "2012172                                Sedan     Sedan       NaN       NaN   \n",
       "\n",
       "         DAYOFWEEK      MONTH  \n",
       "0         Saturday  September  \n",
       "1         Saturday      March  \n",
       "2        Wednesday       June  \n",
       "3         Saturday  September  \n",
       "4          Tuesday   December  \n",
       "...            ...        ...  \n",
       "2012168     Monday        May  \n",
       "2012169     Friday        May  \n",
       "2012170     Friday      March  \n",
       "2012171  Wednesday        May  \n",
       "2012172     Monday        May  \n",
       "\n",
       "[2012173 rows x 31 columns]"
      ]
     },
     "execution_count": 63,
     "metadata": {},
     "output_type": "execute_result"
    }
   ],
   "source": [
    "df"
   ]
  },
  {
   "cell_type": "code",
   "execution_count": 64,
   "id": "1d09322b",
   "metadata": {},
   "outputs": [
    {
     "data": {
      "text/plain": [
       "Friday       320967\n",
       "Thursday     301055\n",
       "Tuesday      296442\n",
       "Wednesday    294442\n",
       "Monday       287610\n",
       "Saturday     270752\n",
       "Sunday       240905\n",
       "Name: DAYOFWEEK, dtype: int64"
      ]
     },
     "execution_count": 64,
     "metadata": {},
     "output_type": "execute_result"
    }
   ],
   "source": [
    "df.DAYOFWEEK.value_counts()"
   ]
  },
  {
   "cell_type": "code",
   "execution_count": 65,
   "id": "b7cc7f47",
   "metadata": {},
   "outputs": [],
   "source": [
    "### ACCORDING TO THE ABOVE DATA WE CAN TELL THAT THE MOST ACCIDENTS OCCUR ON FRIDAYS\n",
    "### And the least accidents occure on sunday\n",
    "###\n",
    "###"
   ]
  },
  {
   "cell_type": "code",
   "execution_count": 66,
   "id": "9006f51b",
   "metadata": {},
   "outputs": [
    {
     "data": {
      "text/plain": [
       "Timestamp('2012-07-01 00:00:00')"
      ]
     },
     "execution_count": 66,
     "metadata": {},
     "output_type": "execute_result"
    }
   ],
   "source": [
    "df['CRASHDATE'].min()"
   ]
  },
  {
   "cell_type": "code",
   "execution_count": 67,
   "id": "bbd86462",
   "metadata": {},
   "outputs": [
    {
     "data": {
      "text/plain": [
       "Timestamp('2023-07-24 00:00:00')"
      ]
     },
     "execution_count": 67,
     "metadata": {},
     "output_type": "execute_result"
    }
   ],
   "source": [
    "df['CRASHDATE'].max()"
   ]
  },
  {
   "cell_type": "code",
   "execution_count": 68,
   "id": "b8fea2ce",
   "metadata": {},
   "outputs": [
    {
     "data": {
      "text/plain": [
       "Timedelta('4040 days 00:00:00')"
      ]
     },
     "execution_count": 68,
     "metadata": {},
     "output_type": "execute_result"
    }
   ],
   "source": [
    "df['CRASHDATE'].max() - df['CRASHDATE'].min()"
   ]
  },
  {
   "cell_type": "code",
   "execution_count": 69,
   "id": "44749cd9",
   "metadata": {},
   "outputs": [],
   "source": [
    "### THIS DATASET CONTAINS DATA OF 4040 DAYS"
   ]
  },
  {
   "cell_type": "code",
   "execution_count": 70,
   "id": "679bb554",
   "metadata": {
    "scrolled": true
   },
   "outputs": [],
   "source": [
    "### add df.set_index['CRASHDATE']\n",
    "### df['2019'].sum()\n",
    "### total number of people injured/killed in 2019 can be found in this \n",
    "### total number of people injured in 2019 is 61389\n",
    "### total number of people killed in 2019 is 244"
   ]
  },
  {
   "cell_type": "code",
   "execution_count": 71,
   "id": "4e0d37d0",
   "metadata": {},
   "outputs": [],
   "source": [
    "df['year']=df['CRASHDATE'].dt.year\n",
    "### THIS SPLITS THE YEAR FROM THE CRASHDATE COLUMN AND MAKES A NEW COLUMN WITH ONLY THE YEAR IN IT"
   ]
  },
  {
   "cell_type": "code",
   "execution_count": 72,
   "id": "370027dd",
   "metadata": {},
   "outputs": [],
   "source": [
    "### df['month']=df['CRASHDATE'].dt.month\n",
    "### THIS SPLITS THE MONTH FROM THE CRASHDATE COLUMN AND MAKES A NEW COLUMN WITH ONLY THE MONTH IN IT"
   ]
  },
  {
   "cell_type": "code",
   "execution_count": 73,
   "id": "fcee95cd",
   "metadata": {},
   "outputs": [],
   "source": [
    "months=df.groupby(['MONTH'])"
   ]
  },
  {
   "cell_type": "code",
   "execution_count": 74,
   "id": "cc47c071",
   "metadata": {},
   "outputs": [
    {
     "name": "stderr",
     "output_type": "stream",
     "text": [
      "C:\\Users\\Adarsh\\AppData\\Local\\Temp\\ipykernel_20544\\2123464773.py:1: FutureWarning: Indexing with multiple keys (implicitly converted to a tuple of keys) will be deprecated, use a list instead.\n",
      "  months['NUMBER OF PERSONS INJURED','NUMBER OF PERSONS KILLED'].sum()\n"
     ]
    },
    {
     "data": {
      "text/html": [
       "<div>\n",
       "<style scoped>\n",
       "    .dataframe tbody tr th:only-of-type {\n",
       "        vertical-align: middle;\n",
       "    }\n",
       "\n",
       "    .dataframe tbody tr th {\n",
       "        vertical-align: top;\n",
       "    }\n",
       "\n",
       "    .dataframe thead th {\n",
       "        text-align: right;\n",
       "    }\n",
       "</style>\n",
       "<table border=\"1\" class=\"dataframe\">\n",
       "  <thead>\n",
       "    <tr style=\"text-align: right;\">\n",
       "      <th></th>\n",
       "      <th>NUMBER OF PERSONS INJURED</th>\n",
       "      <th>NUMBER OF PERSONS KILLED</th>\n",
       "    </tr>\n",
       "    <tr>\n",
       "      <th>MONTH</th>\n",
       "      <th></th>\n",
       "      <th></th>\n",
       "    </tr>\n",
       "  </thead>\n",
       "  <tbody>\n",
       "    <tr>\n",
       "      <th>April</th>\n",
       "      <td>45467.0</td>\n",
       "      <td>206.0</td>\n",
       "    </tr>\n",
       "    <tr>\n",
       "      <th>August</th>\n",
       "      <td>55313.0</td>\n",
       "      <td>273.0</td>\n",
       "    </tr>\n",
       "    <tr>\n",
       "      <th>December</th>\n",
       "      <td>49798.0</td>\n",
       "      <td>247.0</td>\n",
       "    </tr>\n",
       "    <tr>\n",
       "      <th>February</th>\n",
       "      <td>38777.0</td>\n",
       "      <td>184.0</td>\n",
       "    </tr>\n",
       "    <tr>\n",
       "      <th>January</th>\n",
       "      <td>42792.0</td>\n",
       "      <td>214.0</td>\n",
       "    </tr>\n",
       "    <tr>\n",
       "      <th>July</th>\n",
       "      <td>59243.0</td>\n",
       "      <td>293.0</td>\n",
       "    </tr>\n",
       "    <tr>\n",
       "      <th>June</th>\n",
       "      <td>55937.0</td>\n",
       "      <td>262.0</td>\n",
       "    </tr>\n",
       "    <tr>\n",
       "      <th>March</th>\n",
       "      <td>45562.0</td>\n",
       "      <td>181.0</td>\n",
       "    </tr>\n",
       "    <tr>\n",
       "      <th>May</th>\n",
       "      <td>54229.0</td>\n",
       "      <td>239.0</td>\n",
       "    </tr>\n",
       "    <tr>\n",
       "      <th>November</th>\n",
       "      <td>50058.0</td>\n",
       "      <td>268.0</td>\n",
       "    </tr>\n",
       "    <tr>\n",
       "      <th>October</th>\n",
       "      <td>54621.0</td>\n",
       "      <td>262.0</td>\n",
       "    </tr>\n",
       "    <tr>\n",
       "      <th>September</th>\n",
       "      <td>54886.0</td>\n",
       "      <td>271.0</td>\n",
       "    </tr>\n",
       "  </tbody>\n",
       "</table>\n",
       "</div>"
      ],
      "text/plain": [
       "           NUMBER OF PERSONS INJURED  NUMBER OF PERSONS KILLED\n",
       "MONTH                                                         \n",
       "April                        45467.0                     206.0\n",
       "August                       55313.0                     273.0\n",
       "December                     49798.0                     247.0\n",
       "February                     38777.0                     184.0\n",
       "January                      42792.0                     214.0\n",
       "July                         59243.0                     293.0\n",
       "June                         55937.0                     262.0\n",
       "March                        45562.0                     181.0\n",
       "May                          54229.0                     239.0\n",
       "November                     50058.0                     268.0\n",
       "October                      54621.0                     262.0\n",
       "September                    54886.0                     271.0"
      ]
     },
     "execution_count": 74,
     "metadata": {},
     "output_type": "execute_result"
    }
   ],
   "source": [
    "months['NUMBER OF PERSONS INJURED','NUMBER OF PERSONS KILLED'].sum()\n",
    "### WITH THIS WE CAN TELL THAT JULY IS THE MONTH WHERE MOST NUMBER OF PEOPLE WERE INJURED/KILLED\n",
    "### \n",
    "### \n"
   ]
  },
  {
   "cell_type": "code",
   "execution_count": 75,
   "id": "3022ed39",
   "metadata": {},
   "outputs": [],
   "source": [
    "grpbyyear = df.groupby(['year'])\n"
   ]
  },
  {
   "cell_type": "code",
   "execution_count": 76,
   "id": "d0a52878",
   "metadata": {},
   "outputs": [
    {
     "name": "stderr",
     "output_type": "stream",
     "text": [
      "C:\\Users\\Adarsh\\AppData\\Local\\Temp\\ipykernel_20544\\2524902505.py:1: FutureWarning: Indexing with multiple keys (implicitly converted to a tuple of keys) will be deprecated, use a list instead.\n",
      "  grpbyyear['NUMBER OF PERSONS INJURED','NUMBER OF PERSONS KILLED','NUMBER OF PEDESTRIANS INJURED','NUMBER OF PEDESTRIANS KILLED'].sum()\n"
     ]
    },
    {
     "data": {
      "text/html": [
       "<div>\n",
       "<style scoped>\n",
       "    .dataframe tbody tr th:only-of-type {\n",
       "        vertical-align: middle;\n",
       "    }\n",
       "\n",
       "    .dataframe tbody tr th {\n",
       "        vertical-align: top;\n",
       "    }\n",
       "\n",
       "    .dataframe thead th {\n",
       "        text-align: right;\n",
       "    }\n",
       "</style>\n",
       "<table border=\"1\" class=\"dataframe\">\n",
       "  <thead>\n",
       "    <tr style=\"text-align: right;\">\n",
       "      <th></th>\n",
       "      <th>NUMBER OF PERSONS INJURED</th>\n",
       "      <th>NUMBER OF PERSONS KILLED</th>\n",
       "      <th>NUMBER OF PEDESTRIANS INJURED</th>\n",
       "      <th>NUMBER OF PEDESTRIANS KILLED</th>\n",
       "    </tr>\n",
       "    <tr>\n",
       "      <th>year</th>\n",
       "      <th></th>\n",
       "      <th></th>\n",
       "      <th></th>\n",
       "      <th></th>\n",
       "    </tr>\n",
       "  </thead>\n",
       "  <tbody>\n",
       "    <tr>\n",
       "      <th>2012</th>\n",
       "      <td>27453.0</td>\n",
       "      <td>137.0</td>\n",
       "      <td>5906</td>\n",
       "      <td>72</td>\n",
       "    </tr>\n",
       "    <tr>\n",
       "      <th>2013</th>\n",
       "      <td>55124.0</td>\n",
       "      <td>297.0</td>\n",
       "      <td>11988</td>\n",
       "      <td>176</td>\n",
       "    </tr>\n",
       "    <tr>\n",
       "      <th>2014</th>\n",
       "      <td>51223.0</td>\n",
       "      <td>262.0</td>\n",
       "      <td>11036</td>\n",
       "      <td>133</td>\n",
       "    </tr>\n",
       "    <tr>\n",
       "      <th>2015</th>\n",
       "      <td>51358.0</td>\n",
       "      <td>243.0</td>\n",
       "      <td>10084</td>\n",
       "      <td>133</td>\n",
       "    </tr>\n",
       "    <tr>\n",
       "      <th>2016</th>\n",
       "      <td>60317.0</td>\n",
       "      <td>246.0</td>\n",
       "      <td>11090</td>\n",
       "      <td>149</td>\n",
       "    </tr>\n",
       "    <tr>\n",
       "      <th>2017</th>\n",
       "      <td>60656.0</td>\n",
       "      <td>256.0</td>\n",
       "      <td>11151</td>\n",
       "      <td>127</td>\n",
       "    </tr>\n",
       "    <tr>\n",
       "      <th>2018</th>\n",
       "      <td>61941.0</td>\n",
       "      <td>231.0</td>\n",
       "      <td>11123</td>\n",
       "      <td>123</td>\n",
       "    </tr>\n",
       "    <tr>\n",
       "      <th>2019</th>\n",
       "      <td>61389.0</td>\n",
       "      <td>244.0</td>\n",
       "      <td>10568</td>\n",
       "      <td>131</td>\n",
       "    </tr>\n",
       "    <tr>\n",
       "      <th>2020</th>\n",
       "      <td>44615.0</td>\n",
       "      <td>268.0</td>\n",
       "      <td>6691</td>\n",
       "      <td>101</td>\n",
       "    </tr>\n",
       "    <tr>\n",
       "      <th>2021</th>\n",
       "      <td>51779.0</td>\n",
       "      <td>296.0</td>\n",
       "      <td>7501</td>\n",
       "      <td>131</td>\n",
       "    </tr>\n",
       "    <tr>\n",
       "      <th>2022</th>\n",
       "      <td>51914.0</td>\n",
       "      <td>287.0</td>\n",
       "      <td>8971</td>\n",
       "      <td>132</td>\n",
       "    </tr>\n",
       "    <tr>\n",
       "      <th>2023</th>\n",
       "      <td>28914.0</td>\n",
       "      <td>133.0</td>\n",
       "      <td>4792</td>\n",
       "      <td>50</td>\n",
       "    </tr>\n",
       "  </tbody>\n",
       "</table>\n",
       "</div>"
      ],
      "text/plain": [
       "      NUMBER OF PERSONS INJURED  NUMBER OF PERSONS KILLED  \\\n",
       "year                                                        \n",
       "2012                    27453.0                     137.0   \n",
       "2013                    55124.0                     297.0   \n",
       "2014                    51223.0                     262.0   \n",
       "2015                    51358.0                     243.0   \n",
       "2016                    60317.0                     246.0   \n",
       "2017                    60656.0                     256.0   \n",
       "2018                    61941.0                     231.0   \n",
       "2019                    61389.0                     244.0   \n",
       "2020                    44615.0                     268.0   \n",
       "2021                    51779.0                     296.0   \n",
       "2022                    51914.0                     287.0   \n",
       "2023                    28914.0                     133.0   \n",
       "\n",
       "      NUMBER OF PEDESTRIANS INJURED  NUMBER OF PEDESTRIANS KILLED  \n",
       "year                                                               \n",
       "2012                           5906                            72  \n",
       "2013                          11988                           176  \n",
       "2014                          11036                           133  \n",
       "2015                          10084                           133  \n",
       "2016                          11090                           149  \n",
       "2017                          11151                           127  \n",
       "2018                          11123                           123  \n",
       "2019                          10568                           131  \n",
       "2020                           6691                           101  \n",
       "2021                           7501                           131  \n",
       "2022                           8971                           132  \n",
       "2023                           4792                            50  "
      ]
     },
     "execution_count": 76,
     "metadata": {},
     "output_type": "execute_result"
    }
   ],
   "source": [
    "grpbyyear['NUMBER OF PERSONS INJURED','NUMBER OF PERSONS KILLED','NUMBER OF PEDESTRIANS INJURED','NUMBER OF PEDESTRIANS KILLED'].sum()\n",
    "### 2018 WAS THE YEAR WHERE THE MOST NUMBER OF PEOPLE WERE INJURED \n",
    "### 2013 WAS THE YEAR WHERE THE MOST NUMBER OF PEOPLE WERE KILLED (MAJORITY OF THE PEOPLE KILLED WERE THE PEDESTRIANS)"
   ]
  },
  {
   "cell_type": "code",
   "execution_count": 77,
   "id": "ff78fe58",
   "metadata": {},
   "outputs": [],
   "source": [
    "vehicle=df.groupby(['Vehicle1'])"
   ]
  },
  {
   "cell_type": "code",
   "execution_count": 78,
   "id": "ceabd592",
   "metadata": {},
   "outputs": [
    {
     "name": "stderr",
     "output_type": "stream",
     "text": [
      "C:\\Users\\Adarsh\\AppData\\Local\\Temp\\ipykernel_20544\\841470305.py:1: FutureWarning: Indexing with multiple keys (implicitly converted to a tuple of keys) will be deprecated, use a list instead.\n",
      "  vehicle['NUMBER OF PERSONS INJURED','NUMBER OF PERSONS KILLED'].sum().loc['Sedan']\n"
     ]
    },
    {
     "data": {
      "text/plain": [
       "NUMBER OF PERSONS INJURED    182259.0\n",
       "NUMBER OF PERSONS KILLED        609.0\n",
       "Name: Sedan, dtype: float64"
      ]
     },
     "execution_count": 78,
     "metadata": {},
     "output_type": "execute_result"
    }
   ],
   "source": [
    "vehicle['NUMBER OF PERSONS INJURED','NUMBER OF PERSONS KILLED'].sum().loc['Sedan']\n",
    "### GETTING THE NUMBER OF PEOPLE WHO WERE KILLED/INJURED WHEN A SEDAN WAS INVOLVED IN AN ACCIDENT\n",
    "### NUMBER OF PERSONS INJURED IS 182259\n",
    "### NUMBER OF PERSONS KILLED IS 609"
   ]
  },
  {
   "cell_type": "code",
   "execution_count": 79,
   "id": "aacc21f0",
   "metadata": {},
   "outputs": [
    {
     "name": "stderr",
     "output_type": "stream",
     "text": [
      "C:\\Users\\Adarsh\\AppData\\Local\\Temp\\ipykernel_20544\\2777294894.py:1: FutureWarning: Indexing with multiple keys (implicitly converted to a tuple of keys) will be deprecated, use a list instead.\n",
      "  vehicle['NUMBER OF PERSONS INJURED','NUMBER OF PERSONS KILLED'].sum().loc['Station Wagon/Sport Utility Vehicle']\n"
     ]
    },
    {
     "data": {
      "text/plain": [
       "NUMBER OF PERSONS INJURED    139651.0\n",
       "NUMBER OF PERSONS KILLED        551.0\n",
       "Name: Station Wagon/Sport Utility Vehicle, dtype: float64"
      ]
     },
     "execution_count": 79,
     "metadata": {},
     "output_type": "execute_result"
    }
   ],
   "source": [
    "vehicle['NUMBER OF PERSONS INJURED','NUMBER OF PERSONS KILLED'].sum().loc['Station Wagon/Sport Utility Vehicle']\n",
    "### PERSONS INJURED IS 139651\n",
    "### PERSONS KILLED IS 551"
   ]
  },
  {
   "cell_type": "code",
   "execution_count": 80,
   "id": "af370011",
   "metadata": {},
   "outputs": [
    {
     "name": "stderr",
     "output_type": "stream",
     "text": [
      "C:\\Users\\Adarsh\\AppData\\Local\\Temp\\ipykernel_20544\\2817686080.py:1: FutureWarning: Indexing with multiple keys (implicitly converted to a tuple of keys) will be deprecated, use a list instead.\n",
      "  vehicle['NUMBER OF PERSONS INJURED','NUMBER OF PERSONS KILLED'].sum().loc['SPORT UTILITY / STATION WAGON']\n"
     ]
    },
    {
     "data": {
      "text/plain": [
       "NUMBER OF PERSONS INJURED    45622.0\n",
       "NUMBER OF PERSONS KILLED       218.0\n",
       "Name: SPORT UTILITY / STATION WAGON, dtype: float64"
      ]
     },
     "execution_count": 80,
     "metadata": {},
     "output_type": "execute_result"
    }
   ],
   "source": [
    "vehicle['NUMBER OF PERSONS INJURED','NUMBER OF PERSONS KILLED'].sum().loc['SPORT UTILITY / STATION WAGON']\n",
    "### PERSONS INJURED IS 45622\n",
    "### PERSONS KILLED IS 218"
   ]
  },
  {
   "cell_type": "code",
   "execution_count": 81,
   "id": "8f72a945",
   "metadata": {},
   "outputs": [],
   "source": [
    "### FROM THE ABOVE 2 WE GET THE TOTAL DEATHS AND TOTAL INJURED WHEN THE ACCIDENT INVOLVED STATION WAGON/SUV\n",
    "### THE TOTAL NUMBER OF PERSONS INJURED IS 45622+139651=185273\n",
    "### THE TOTAL NUMBER OF PERSONS KILLED IS 551+218=769"
   ]
  },
  {
   "cell_type": "code",
   "execution_count": 82,
   "id": "7e70f8bc",
   "metadata": {},
   "outputs": [
    {
     "name": "stderr",
     "output_type": "stream",
     "text": [
      "C:\\Users\\Adarsh\\AppData\\Local\\Temp\\ipykernel_20544\\4131649051.py:1: FutureWarning: Indexing with multiple keys (implicitly converted to a tuple of keys) will be deprecated, use a list instead.\n",
      "  vehicle['NUMBER OF PERSONS INJURED','NUMBER OF PERSONS KILLED'].sum().loc['PASSENGER VEHICLE']\n"
     ]
    },
    {
     "data": {
      "text/plain": [
       "NUMBER OF PERSONS INJURED    106857.0\n",
       "NUMBER OF PERSONS KILLED        398.0\n",
       "Name: PASSENGER VEHICLE, dtype: float64"
      ]
     },
     "execution_count": 82,
     "metadata": {},
     "output_type": "execute_result"
    }
   ],
   "source": [
    "vehicle['NUMBER OF PERSONS INJURED','NUMBER OF PERSONS KILLED'].sum().loc['PASSENGER VEHICLE']\n",
    "### THE TOTAL NUMBER OF PERSONS INJURED IN ACCIDENTS WHICH INVOLVED PASSENGER VEHICLE IS 106857\n",
    "### THE TOTAL NUMBER OF PERSONS INJURED IN ACCIDENTS WHICH INVOLED PASSENGER VEHICLE IS 398"
   ]
  },
  {
   "cell_type": "code",
   "execution_count": null,
   "id": "e8d85a6c",
   "metadata": {},
   "outputs": [],
   "source": []
  },
  {
   "cell_type": "code",
   "execution_count": 83,
   "id": "eaf35032",
   "metadata": {},
   "outputs": [
    {
     "data": {
      "text/plain": [
       "Text(0, 0.5, 'Number of Crashes')"
      ]
     },
     "execution_count": 83,
     "metadata": {},
     "output_type": "execute_result"
    },
    {
     "data": {
      "image/png": "[encoded data removed]",
      "text/plain": [
       "<Figure size 1000x1200 with 1 Axes>"
      ]
     },
     "metadata": {},
     "output_type": "display_data"
    }
   ],
   "source": [
    "# plot Number of Crashes for each vehicle type\n",
    "df.groupby(['year','CONTRIBUTING FACTOR VEHICLE 1'])['COLLISION_ID'].size().unstack().plot(kind='bar', figsize=(10,12), stacked=True).legend(loc='center left', bbox_to_anchor=(1, 0.5), fancybox=True, shadow=True, borderpad=1)\n",
    "plt.title('Number of Crashes for each year by contributing factor')\n",
    "plt.xlabel('Year')\n",
    "plt.ylabel('Number of Crashes')"
   ]
  },
  {
   "cell_type": "code",
   "execution_count": 84,
   "id": "3d98e56c",
   "metadata": {
    "scrolled": false
   },
   "outputs": [
    {
     "data": {
      "text/plain": [
       "Index(['CRASHDATE', 'CRASHTIME', 'BOROUGH', 'ZIP CODE', 'LATITUDE',\n",
       "       'LONGITUDE', 'LOCATION', 'ON STREET NAME', 'CROSS STREET NAME',\n",
       "       'OFF STREET NAME', 'NUMBER OF PERSONS INJURED',\n",
       "       'NUMBER OF PERSONS KILLED', 'NUMBER OF PEDESTRIANS INJURED',\n",
       "       'NUMBER OF PEDESTRIANS KILLED', 'NUMBER OF CYCLIST INJURED',\n",
       "       'NUMBER OF CYCLIST KILLED', 'NUMBER OF MOTORIST INJURED',\n",
       "       'NUMBER OF MOTORIST KILLED', 'CONTRIBUTING FACTOR VEHICLE 1',\n",
       "       'CONTRIBUTING FACTOR VEHICLE 2', 'CONTRIBUTING FACTOR VEHICLE 3',\n",
       "       'CONTRIBUTING FACTOR VEHICLE 4', 'CONTRIBUTING FACTOR VEHICLE 5',\n",
       "       'COLLISION_ID', 'Vehicle1', 'Vehicle2', 'Vehicle3', 'Vehicle4',\n",
       "       'Vehicle5', 'DAYOFWEEK', 'MONTH', 'year'],\n",
       "      dtype='object')"
      ]
     },
     "execution_count": 84,
     "metadata": {},
     "output_type": "execute_result"
    }
   ],
   "source": [
    "df.columns"
   ]
  },
  {
   "cell_type": "code",
   "execution_count": 86,
   "id": "5a2ccdd8",
   "metadata": {},
   "outputs": [],
   "source": [
    "import seaborn as sns"
   ]
  },
  {
   "cell_type": "code",
   "execution_count": 87,
   "id": "e9d60738",
   "metadata": {},
   "outputs": [],
   "source": [
    "# creating a new dataframe to store year, Primary Type, and number of crashes\n",
    "crashdf = pd.DataFrame(df.groupby(['CRASHDATE','Vehicle1']).size().sort_values(ascending=False).rename('COUNT').reset_index())\n"
   ]
  },
  {
   "cell_type": "code",
   "execution_count": 88,
   "id": "1ba60d2f",
   "metadata": {},
   "outputs": [
    {
     "data": {
      "text/html": [
       "<div>\n",
       "<style scoped>\n",
       "    .dataframe tbody tr th:only-of-type {\n",
       "        vertical-align: middle;\n",
       "    }\n",
       "\n",
       "    .dataframe tbody tr th {\n",
       "        vertical-align: top;\n",
       "    }\n",
       "\n",
       "    .dataframe thead th {\n",
       "        text-align: right;\n",
       "    }\n",
       "</style>\n",
       "<table border=\"1\" class=\"dataframe\">\n",
       "  <thead>\n",
       "    <tr style=\"text-align: right;\">\n",
       "      <th></th>\n",
       "      <th>CRASHDATE</th>\n",
       "      <th>Vehicle1</th>\n",
       "      <th>COUNT</th>\n",
       "    </tr>\n",
       "  </thead>\n",
       "  <tbody>\n",
       "    <tr>\n",
       "      <th>0</th>\n",
       "      <td>2014-01-21</td>\n",
       "      <td>PASSENGER VEHICLE</td>\n",
       "      <td>594</td>\n",
       "    </tr>\n",
       "    <tr>\n",
       "      <th>1</th>\n",
       "      <td>2015-01-18</td>\n",
       "      <td>PASSENGER VEHICLE</td>\n",
       "      <td>542</td>\n",
       "    </tr>\n",
       "    <tr>\n",
       "      <th>2</th>\n",
       "      <td>2014-02-03</td>\n",
       "      <td>PASSENGER VEHICLE</td>\n",
       "      <td>505</td>\n",
       "    </tr>\n",
       "    <tr>\n",
       "      <th>3</th>\n",
       "      <td>2018-11-15</td>\n",
       "      <td>Sedan</td>\n",
       "      <td>481</td>\n",
       "    </tr>\n",
       "    <tr>\n",
       "      <th>4</th>\n",
       "      <td>2017-05-19</td>\n",
       "      <td>Sedan</td>\n",
       "      <td>480</td>\n",
       "    </tr>\n",
       "  </tbody>\n",
       "</table>\n",
       "</div>"
      ],
      "text/plain": [
       "   CRASHDATE           Vehicle1  COUNT\n",
       "0 2014-01-21  PASSENGER VEHICLE    594\n",
       "1 2015-01-18  PASSENGER VEHICLE    542\n",
       "2 2014-02-03  PASSENGER VEHICLE    505\n",
       "3 2018-11-15              Sedan    481\n",
       "4 2017-05-19              Sedan    480"
      ]
     },
     "execution_count": 88,
     "metadata": {},
     "output_type": "execute_result"
    }
   ],
   "source": [
    "# display the dataframe\n",
    "crashdf.head()"
   ]
  },
  {
   "cell_type": "code",
   "execution_count": 102,
   "id": "7ffe3430",
   "metadata": {},
   "outputs": [],
   "source": [
    "crash_count_by_date = pd.DataFrame(df.groupby('CRASHDATE').size().sort_values(ascending=False).rename('COUNT').reset_index())\n"
   ]
  },
  {
   "cell_type": "code",
   "execution_count": 103,
   "id": "7f197a9a",
   "metadata": {},
   "outputs": [
    {
     "data": {
      "text/html": [
       "<div>\n",
       "<style scoped>\n",
       "    .dataframe tbody tr th:only-of-type {\n",
       "        vertical-align: middle;\n",
       "    }\n",
       "\n",
       "    .dataframe tbody tr th {\n",
       "        vertical-align: top;\n",
       "    }\n",
       "\n",
       "    .dataframe thead th {\n",
       "        text-align: right;\n",
       "    }\n",
       "</style>\n",
       "<table border=\"1\" class=\"dataframe\">\n",
       "  <thead>\n",
       "    <tr style=\"text-align: right;\">\n",
       "      <th></th>\n",
       "      <th>CRASHDATE</th>\n",
       "      <th>COUNT</th>\n",
       "    </tr>\n",
       "  </thead>\n",
       "  <tbody>\n",
       "    <tr>\n",
       "      <th>0</th>\n",
       "      <td>2014-01-21</td>\n",
       "      <td>1161</td>\n",
       "    </tr>\n",
       "    <tr>\n",
       "      <th>1</th>\n",
       "      <td>2018-11-15</td>\n",
       "      <td>1065</td>\n",
       "    </tr>\n",
       "    <tr>\n",
       "      <th>2</th>\n",
       "      <td>2017-12-15</td>\n",
       "      <td>999</td>\n",
       "    </tr>\n",
       "    <tr>\n",
       "      <th>3</th>\n",
       "      <td>2017-05-19</td>\n",
       "      <td>974</td>\n",
       "    </tr>\n",
       "    <tr>\n",
       "      <th>4</th>\n",
       "      <td>2015-01-18</td>\n",
       "      <td>961</td>\n",
       "    </tr>\n",
       "  </tbody>\n",
       "</table>\n",
       "</div>"
      ],
      "text/plain": [
       "   CRASHDATE  COUNT\n",
       "0 2014-01-21   1161\n",
       "1 2018-11-15   1065\n",
       "2 2017-12-15    999\n",
       "3 2017-05-19    974\n",
       "4 2015-01-18    961"
      ]
     },
     "execution_count": 103,
     "metadata": {},
     "output_type": "execute_result"
    }
   ],
   "source": [
    "crash_count_by_date.head()\n"
   ]
  },
  {
   "cell_type": "code",
   "execution_count": 151,
   "id": "613cb24b",
   "metadata": {},
   "outputs": [],
   "source": [
    "# import relevant libraries\n",
    "import matplotlib.pyplot as plt\n",
    "import seaborn as sns\n",
    "sns.set(style=\"whitegrid\")\n"
   ]
  },
  {
   "cell_type": "code",
   "execution_count": 154,
   "id": "9c12ede5",
   "metadata": {},
   "outputs": [
    {
     "data": {
      "text/plain": [
       "[Text(0, 0, '2014-01-21T00:00:00.000000000'),\n",
       " Text(1, 0, '2018-11-15T00:00:00.000000000'),\n",
       " Text(2, 0, '2017-12-15T00:00:00.000000000'),\n",
       " Text(3, 0, '2017-05-19T00:00:00.000000000'),\n",
       " Text(4, 0, '2015-01-18T00:00:00.000000000'),\n",
       " Text(5, 0, '2014-02-03T00:00:00.000000000'),\n",
       " Text(6, 0, '2015-03-06T00:00:00.000000000'),\n",
       " Text(7, 0, '2017-05-18T00:00:00.000000000'),\n",
       " Text(8, 0, '2017-01-07T00:00:00.000000000'),\n",
       " Text(9, 0, '2018-03-02T00:00:00.000000000'),\n",
       " Text(10, 0, '2017-12-14T00:00:00.000000000'),\n",
       " Text(11, 0, '2016-09-30T00:00:00.000000000'),\n",
       " Text(12, 0, '2018-11-09T00:00:00.000000000'),\n",
       " Text(13, 0, '2013-11-26T00:00:00.000000000'),\n",
       " Text(14, 0, '2017-04-28T00:00:00.000000000'),\n",
       " Text(15, 0, '2013-03-08T00:00:00.000000000'),\n",
       " Text(16, 0, '2016-10-21T00:00:00.000000000'),\n",
       " Text(17, 0, '2018-06-29T00:00:00.000000000'),\n",
       " Text(18, 0, '2017-06-22T00:00:00.000000000'),\n",
       " Text(19, 0, '2018-12-14T00:00:00.000000000'),\n",
       " Text(20, 0, '2017-03-16T00:00:00.000000000'),\n",
       " Text(21, 0, '2018-06-14T00:00:00.000000000'),\n",
       " Text(22, 0, '2017-10-30T00:00:00.000000000'),\n",
       " Text(23, 0, '2016-10-27T00:00:00.000000000'),\n",
       " Text(24, 0, '2018-10-12T00:00:00.000000000'),\n",
       " Text(25, 0, '2015-03-05T00:00:00.000000000'),\n",
       " Text(26, 0, '2017-06-13T00:00:00.000000000'),\n",
       " Text(27, 0, '2017-09-15T00:00:00.000000000'),\n",
       " Text(28, 0, '2017-10-20T00:00:00.000000000'),\n",
       " Text(29, 0, '2018-09-06T00:00:00.000000000')]"
      ]
     },
     "execution_count": 154,
     "metadata": {},
     "output_type": "execute_result"
    },
    {
     "data": {
      "image/png": "[encoded data removed]",
      "text/plain": [
       "<Figure size 2000x500 with 1 Axes>"
      ]
     },
     "metadata": {},
     "output_type": "display_data"
    }
   ],
   "source": [
    "# create the matplotlib figure\n",
    "fig, ax = plt.subplots(figsize=(20, 5))\n",
    "\n",
    "# plot the graph of number of crashes vs. date\n",
    "# First 30 maximum number of crashes will be plotted\n",
    "barplot1 = sns.barplot(x=\"CRASHDATE\", y=\"COUNT\", data=crash_count_by_date.iloc[:30, :], color=\"g\")\n",
    "# set the axis labels\n",
    "ax.set(ylabel=\"Number of Crashes\", xlabel=\"Date\")\n",
    "# rotate xticklabels\n",
    "barplot1.set_xticklabels(barplot1.get_xticklabels(),\n",
    "                        rotation=45,\n",
    "                        horizontalalignment='right',\n",
    "                        fontweight='light',\n",
    "                        fontsize='large'\n",
    "                        )"
   ]
  },
  {
   "cell_type": "code",
   "execution_count": null,
   "id": "a65ece27",
   "metadata": {},
   "outputs": [],
   "source": []
  }
 ],
 "metadata": {
  "kernelspec": {
   "display_name": "Python 3 (ipykernel)",
   "language": "python",
   "name": "python3"
  },
  "language_info": {
   "codemirror_mode": {
    "name": "ipython",
    "version": 3
   },
   "file_extension": ".py",
   "mimetype": "text/x-python",
   "name": "python",
   "nbconvert_exporter": "python",
   "pygments_lexer": "ipython3",
   "version": "3.9.13"
  }
 },
 "nbformat": 4,
 "nbformat_minor": 5
}
